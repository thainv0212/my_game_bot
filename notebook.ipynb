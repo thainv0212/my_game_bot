{
 "cells": [
  {
   "cell_type": "markdown",
   "metadata": {},
   "source": [
    "<a href=\"https://colab.research.google.com/github/shanayghag/Sentiment-classification-using-XLNet/blob/master/Sentiment_Analysis_Series_part_1.ipynb\" target=\"_parent\"><img src=\"https://colab.research.google.com/assets/colab-badge.svg\" alt=\"Open In Colab\"/></a>"
   ]
  },
  {
   "cell_type": "code",
   "execution_count": null,
   "metadata": {
    "pycharm": {
     "name": "#%%\n"
    }
   },
   "outputs": [],
   "source": [
    "from google.colab import drive\n",
    "drive.mount('/content/drive')"
   ]
  },
  {
   "cell_type": "code",
   "execution_count": null,
   "metadata": {
    "pycharm": {
     "name": "#%%\n"
    }
   },
   "outputs": [],
   "source": [
    "!nvidia-smi"
   ]
  },
  {
   "cell_type": "code",
   "execution_count": null,
   "metadata": {
    "pycharm": {
     "name": "#%%\n"
    }
   },
   "outputs": [],
   "source": [
    "!pip install transformers"
   ]
  },
  {
   "cell_type": "code",
   "execution_count": null,
   "metadata": {
    "pycharm": {
     "name": "#%%\n"
    }
   },
   "outputs": [],
   "source": [
    "!pip install -q -U watermark"
   ]
  },
  {
   "cell_type": "code",
   "execution_count": null,
   "metadata": {
    "pycharm": {
     "name": "#%%\n"
    }
   },
   "outputs": [],
   "source": [
    "%reload_ext watermark\n",
    "%watermark -v -p numpy,pandas,torch,transformers"
   ]
  },
  {
   "cell_type": "markdown",
   "metadata": {},
   "source": [
    "### Making the necessary imports"
   ]
  },
  {
   "cell_type": "code",
   "execution_count": 1,
   "metadata": {
    "pycharm": {
     "name": "#%%\n"
    }
   },
   "outputs": [],
   "source": [
    "import transformers\n",
    "from transformers import XLNetTokenizer, XLNetModel, AdamW, get_linear_schedule_with_warmup\n",
    "import torch\n",
    "\n",
    "import numpy as np\n",
    "import pandas as pd\n",
    "import seaborn as sns\n",
    "import matplotlib.pyplot as plt\n",
    "from matplotlib import rc\n",
    "from sklearn.model_selection import train_test_split\n",
    "from sklearn.metrics import confusion_matrix, classification_report, accuracy_score\n",
    "from collections import defaultdict\n",
    "from textwrap import wrap\n",
    "from pylab import rcParams\n",
    "\n",
    "from torch import nn, optim\n",
    "from tensorflow.keras.preprocessing.sequence import pad_sequences\n",
    "from torch.utils.data import TensorDataset,RandomSampler,SequentialSampler\n",
    "from torch.utils.data import Dataset, DataLoader\n",
    "import torch.nn.functional as F"
   ]
  },
  {
   "cell_type": "code",
   "execution_count": 2,
   "metadata": {},
   "outputs": [
    {
     "data": {
      "text/plain": [
       "device(type='cpu')"
      ]
     },
     "execution_count": 2,
     "metadata": {},
     "output_type": "execute_result"
    }
   ],
   "source": [
    "%matplotlib inline\n",
    "%config InlineBackend.figure_format='retina'\n",
    "\n",
    "sns.set(style='whitegrid', palette='muted', font_scale=1.2)\n",
    "\n",
    "HAPPY_COLORS_PALETTE = [\"#01BEFE\", \"#FFDD00\", \"#FF7D00\", \"#FF006D\", \"#ADFF02\", \"#8F00FF\"]\n",
    "\n",
    "sns.set_palette(sns.color_palette(HAPPY_COLORS_PALETTE))\n",
    "\n",
    "rcParams['figure.figsize'] = 12, 8\n",
    "\n",
    "RANDOM_SEED = 42\n",
    "np.random.seed(RANDOM_SEED)\n",
    "torch.manual_seed(RANDOM_SEED)\n",
    "\n",
    "device = torch.device(\"cuda:0\" if torch.cuda.is_available() else \"cpu\")\n",
    "device"
   ]
  },
  {
   "cell_type": "code",
   "execution_count": 3,
   "metadata": {
    "pycharm": {
     "name": "#%%\n"
    }
   },
   "outputs": [
    {
     "data": {
      "text/plain": [
       "device(type='cpu')"
      ]
     },
     "execution_count": 3,
     "metadata": {},
     "output_type": "execute_result"
    }
   ],
   "source": [
    "%matplotlib inline\n",
    "%config InlineBackend.figure_format='retina'\n",
    "\n",
    "sns.set(style='whitegrid', palette='muted', font_scale=1.2)\n",
    "\n",
    "HAPPY_COLORS_PALETTE = [\"#01BEFE\", \"#FFDD00\", \"#FF7D00\", \"#FF006D\", \"#ADFF02\", \"#8F00FF\"]\n",
    "\n",
    "sns.set_palette(sns.color_palette(HAPPY_COLORS_PALETTE))\n",
    "\n",
    "rcParams['figure.figsize'] = 12, 8\n",
    "\n",
    "RANDOM_SEED = 42\n",
    "np.random.seed(RANDOM_SEED)\n",
    "torch.manual_seed(RANDOM_SEED)\n",
    "\n",
    "device = torch.device(\"cuda:0\" if torch.cuda.is_available() else \"cpu\")\n",
    "device"
   ]
  },
  {
   "cell_type": "markdown",
   "metadata": {},
   "source": [
    "### Data Preprocessing"
   ]
  },
  {
   "cell_type": "code",
   "execution_count": 4,
   "metadata": {
    "pycharm": {
     "name": "#%%\n"
    }
   },
   "outputs": [
    {
     "data": {
      "text/html": [
       "<div>\n",
       "<style scoped>\n",
       "    .dataframe tbody tr th:only-of-type {\n",
       "        vertical-align: middle;\n",
       "    }\n",
       "\n",
       "    .dataframe tbody tr th {\n",
       "        vertical-align: top;\n",
       "    }\n",
       "\n",
       "    .dataframe thead th {\n",
       "        text-align: right;\n",
       "    }\n",
       "</style>\n",
       "<table border=\"1\" class=\"dataframe\">\n",
       "  <thead>\n",
       "    <tr style=\"text-align: right;\">\n",
       "      <th></th>\n",
       "      <th>review</th>\n",
       "      <th>sentiment</th>\n",
       "    </tr>\n",
       "  </thead>\n",
       "  <tbody>\n",
       "    <tr>\n",
       "      <th>0</th>\n",
       "      <td>One of the other reviewers has mentioned that ...</td>\n",
       "      <td>positive</td>\n",
       "    </tr>\n",
       "    <tr>\n",
       "      <th>1</th>\n",
       "      <td>A wonderful little production. &lt;br /&gt;&lt;br /&gt;The...</td>\n",
       "      <td>positive</td>\n",
       "    </tr>\n",
       "    <tr>\n",
       "      <th>2</th>\n",
       "      <td>I thought this was a wonderful way to spend ti...</td>\n",
       "      <td>positive</td>\n",
       "    </tr>\n",
       "    <tr>\n",
       "      <th>3</th>\n",
       "      <td>Basically there's a family where a little boy ...</td>\n",
       "      <td>negative</td>\n",
       "    </tr>\n",
       "    <tr>\n",
       "      <th>4</th>\n",
       "      <td>Petter Mattei's \"Love in the Time of Money\" is...</td>\n",
       "      <td>positive</td>\n",
       "    </tr>\n",
       "  </tbody>\n",
       "</table>\n",
       "</div>"
      ],
      "text/plain": [
       "                                              review sentiment\n",
       "0  One of the other reviewers has mentioned that ...  positive\n",
       "1  A wonderful little production. <br /><br />The...  positive\n",
       "2  I thought this was a wonderful way to spend ti...  positive\n",
       "3  Basically there's a family where a little boy ...  negative\n",
       "4  Petter Mattei's \"Love in the Time of Money\" is...  positive"
      ]
     },
     "execution_count": 4,
     "metadata": {},
     "output_type": "execute_result"
    }
   ],
   "source": [
    "df = pd.read_csv('IMDB Dataset.csv')\n",
    "df.head()"
   ]
  },
  {
   "cell_type": "code",
   "execution_count": 5,
   "metadata": {
    "pycharm": {
     "name": "#%%\n"
    }
   },
   "outputs": [
    {
     "data": {
      "text/html": [
       "<div>\n",
       "<style scoped>\n",
       "    .dataframe tbody tr th:only-of-type {\n",
       "        vertical-align: middle;\n",
       "    }\n",
       "\n",
       "    .dataframe tbody tr th {\n",
       "        vertical-align: top;\n",
       "    }\n",
       "\n",
       "    .dataframe thead th {\n",
       "        text-align: right;\n",
       "    }\n",
       "</style>\n",
       "<table border=\"1\" class=\"dataframe\">\n",
       "  <thead>\n",
       "    <tr style=\"text-align: right;\">\n",
       "      <th></th>\n",
       "      <th>review</th>\n",
       "      <th>sentiment</th>\n",
       "    </tr>\n",
       "  </thead>\n",
       "  <tbody>\n",
       "    <tr>\n",
       "      <th>33553</th>\n",
       "      <td>I really liked this Summerslam due to the look...</td>\n",
       "      <td>positive</td>\n",
       "    </tr>\n",
       "    <tr>\n",
       "      <th>9427</th>\n",
       "      <td>Not many television shows appeal to quite as m...</td>\n",
       "      <td>positive</td>\n",
       "    </tr>\n",
       "    <tr>\n",
       "      <th>199</th>\n",
       "      <td>The film quickly gets to a major chase scene w...</td>\n",
       "      <td>negative</td>\n",
       "    </tr>\n",
       "    <tr>\n",
       "      <th>12447</th>\n",
       "      <td>Jane Austen would definitely approve of this o...</td>\n",
       "      <td>positive</td>\n",
       "    </tr>\n",
       "    <tr>\n",
       "      <th>39489</th>\n",
       "      <td>Expectations were somewhat high for me when I ...</td>\n",
       "      <td>negative</td>\n",
       "    </tr>\n",
       "    <tr>\n",
       "      <th>42724</th>\n",
       "      <td>I've watched this movie on a fairly regular ba...</td>\n",
       "      <td>positive</td>\n",
       "    </tr>\n",
       "    <tr>\n",
       "      <th>10822</th>\n",
       "      <td>For once a story of hope highlighted over the ...</td>\n",
       "      <td>positive</td>\n",
       "    </tr>\n",
       "    <tr>\n",
       "      <th>49498</th>\n",
       "      <td>Okay, I didn't get the Purgatory thing the fir...</td>\n",
       "      <td>positive</td>\n",
       "    </tr>\n",
       "    <tr>\n",
       "      <th>4144</th>\n",
       "      <td>I was very disappointed with this series. It h...</td>\n",
       "      <td>negative</td>\n",
       "    </tr>\n",
       "    <tr>\n",
       "      <th>36958</th>\n",
       "      <td>The first 30 minutes of Tinseltown had my fing...</td>\n",
       "      <td>negative</td>\n",
       "    </tr>\n",
       "    <tr>\n",
       "      <th>43106</th>\n",
       "      <td>jeez, this was immensely boring. the leading m...</td>\n",
       "      <td>negative</td>\n",
       "    </tr>\n",
       "    <tr>\n",
       "      <th>38695</th>\n",
       "      <td>Great just great! The West Coast got \"Dirty\" H...</td>\n",
       "      <td>positive</td>\n",
       "    </tr>\n",
       "    <tr>\n",
       "      <th>6188</th>\n",
       "      <td>It's made in 2007 and the CG is bad for a movi...</td>\n",
       "      <td>negative</td>\n",
       "    </tr>\n",
       "    <tr>\n",
       "      <th>1414</th>\n",
       "      <td>This movie stinks majorly. The only reason I g...</td>\n",
       "      <td>negative</td>\n",
       "    </tr>\n",
       "    <tr>\n",
       "      <th>18471</th>\n",
       "      <td>We can start with the wooden acting but this f...</td>\n",
       "      <td>negative</td>\n",
       "    </tr>\n",
       "    <tr>\n",
       "      <th>29282</th>\n",
       "      <td>This movie starts off somewhat slowly and gets...</td>\n",
       "      <td>positive</td>\n",
       "    </tr>\n",
       "    <tr>\n",
       "      <th>15177</th>\n",
       "      <td>This is a slightly uneven entry with one stand...</td>\n",
       "      <td>positive</td>\n",
       "    </tr>\n",
       "    <tr>\n",
       "      <th>34304</th>\n",
       "      <td>I was first introduced to John Waters films by...</td>\n",
       "      <td>positive</td>\n",
       "    </tr>\n",
       "    <tr>\n",
       "      <th>12609</th>\n",
       "      <td>This movie has very good acting by virtually a...</td>\n",
       "      <td>positive</td>\n",
       "    </tr>\n",
       "    <tr>\n",
       "      <th>12144</th>\n",
       "      <td>I can't help but notice the negative reviews t...</td>\n",
       "      <td>positive</td>\n",
       "    </tr>\n",
       "  </tbody>\n",
       "</table>\n",
       "</div>"
      ],
      "text/plain": [
       "                                                  review sentiment\n",
       "33553  I really liked this Summerslam due to the look...  positive\n",
       "9427   Not many television shows appeal to quite as m...  positive\n",
       "199    The film quickly gets to a major chase scene w...  negative\n",
       "12447  Jane Austen would definitely approve of this o...  positive\n",
       "39489  Expectations were somewhat high for me when I ...  negative\n",
       "42724  I've watched this movie on a fairly regular ba...  positive\n",
       "10822  For once a story of hope highlighted over the ...  positive\n",
       "49498  Okay, I didn't get the Purgatory thing the fir...  positive\n",
       "4144   I was very disappointed with this series. It h...  negative\n",
       "36958  The first 30 minutes of Tinseltown had my fing...  negative\n",
       "43106  jeez, this was immensely boring. the leading m...  negative\n",
       "38695  Great just great! The West Coast got \"Dirty\" H...  positive\n",
       "6188   It's made in 2007 and the CG is bad for a movi...  negative\n",
       "1414   This movie stinks majorly. The only reason I g...  negative\n",
       "18471  We can start with the wooden acting but this f...  negative\n",
       "29282  This movie starts off somewhat slowly and gets...  positive\n",
       "15177  This is a slightly uneven entry with one stand...  positive\n",
       "34304  I was first introduced to John Waters films by...  positive\n",
       "12609  This movie has very good acting by virtually a...  positive\n",
       "12144  I can't help but notice the negative reviews t...  positive"
      ]
     },
     "execution_count": 5,
     "metadata": {},
     "output_type": "execute_result"
    }
   ],
   "source": [
    "from sklearn.utils import shuffle\n",
    "df = shuffle(df)\n",
    "df.head(20)"
   ]
  },
  {
   "cell_type": "code",
   "execution_count": 6,
   "metadata": {
    "pycharm": {
     "name": "#%%\n"
    }
   },
   "outputs": [
    {
     "data": {
      "text/plain": [
       "2400"
      ]
     },
     "execution_count": 6,
     "metadata": {},
     "output_type": "execute_result"
    }
   ],
   "source": [
    "df = df[:2400]\n",
    "len(df)"
   ]
  },
  {
   "cell_type": "code",
   "execution_count": 7,
   "metadata": {
    "pycharm": {
     "name": "#%%\n"
    }
   },
   "outputs": [],
   "source": [
    "import re\n",
    "def clean_text(text):\n",
    "    text = re.sub(r\"@[A-Za-z0-9]+\", ' ', text)\n",
    "    text = re.sub(r\"https?://[A-Za-z0-9./]+\", ' ', text)\n",
    "    text = re.sub(r\"[^a-zA-z.!?'0-9]\", ' ', text)\n",
    "    text = re.sub('\\t', ' ',  text)\n",
    "    text = re.sub(r\" +\", ' ', text)\n",
    "    return text"
   ]
  },
  {
   "cell_type": "code",
   "execution_count": 8,
   "metadata": {
    "pycharm": {
     "name": "#%%\n"
    }
   },
   "outputs": [],
   "source": [
    "df['review'] = df['review'].apply(clean_text)"
   ]
  },
  {
   "cell_type": "code",
   "execution_count": 9,
   "metadata": {
    "pycharm": {
     "name": "#%%\n"
    }
   },
   "outputs": [
    {
     "name": "stderr",
     "output_type": "stream",
     "text": [
      "/home/thai/miniconda3/lib/python3.8/site-packages/seaborn/_decorators.py:36: FutureWarning: Pass the following variable as a keyword arg: x. From version 0.12, the only valid positional argument will be `data`, and passing other arguments without an explicit keyword will result in an error or misinterpretation.\n",
      "  warnings.warn(\n"
     ]
    },
    {
     "data": {
      "image/png": "[encoded data removed]",
      "text/plain": [
       "<Figure size 576x432 with 1 Axes>"
      ]
     },
     "metadata": {
      "image/png": {
       "height": 381,
       "width": 521
      }
     },
     "output_type": "display_data"
    }
   ],
   "source": [
    "rcParams['figure.figsize'] = 8, 6\n",
    "sns.countplot(df.sentiment)\n",
    "plt.xlabel('review score');"
   ]
  },
  {
   "cell_type": "code",
   "execution_count": 10,
   "metadata": {
    "pycharm": {
     "name": "#%%\n"
    }
   },
   "outputs": [],
   "source": [
    "def sentiment2label(sentiment):\n",
    "    if sentiment == \"positive\":\n",
    "        return 1\n",
    "    else :\n",
    "        return 0\n",
    "\n",
    "df['sentiment'] = df['sentiment'].apply(sentiment2label)"
   ]
  },
  {
   "cell_type": "code",
   "execution_count": 11,
   "metadata": {
    "pycharm": {
     "name": "#%%\n"
    }
   },
   "outputs": [
    {
     "data": {
      "text/plain": [
       "1    1204\n",
       "0    1196\n",
       "Name: sentiment, dtype: int64"
      ]
     },
     "execution_count": 11,
     "metadata": {},
     "output_type": "execute_result"
    }
   ],
   "source": [
    "df['sentiment'].value_counts()"
   ]
  },
  {
   "cell_type": "code",
   "execution_count": 12,
   "metadata": {
    "pycharm": {
     "name": "#%%\n"
    }
   },
   "outputs": [],
   "source": [
    "class_names = ['negative', 'positive']"
   ]
  },
  {
   "cell_type": "markdown",
   "metadata": {},
   "source": [
    "### Playing with XLNetTokenizer"
   ]
  },
  {
   "cell_type": "code",
   "execution_count": 13,
   "metadata": {
    "pycharm": {
     "name": "#%%\n"
    }
   },
   "outputs": [],
   "source": [
    "from transformers import XLNetTokenizer, XLNetModel\n",
    "PRE_TRAINED_MODEL_NAME = 'xlnet-base-cased'\n",
    "tokenizer = XLNetTokenizer.from_pretrained(PRE_TRAINED_MODEL_NAME)"
   ]
  },
  {
   "cell_type": "code",
   "execution_count": 14,
   "metadata": {
    "pycharm": {
     "name": "#%%\n"
    }
   },
   "outputs": [
    {
     "name": "stderr",
     "output_type": "stream",
     "text": [
      "Truncation was not explicitly activated but `max_length` is provided a specific value, please use `truncation=True` to explicitly truncate examples to max length. Defaulting to 'longest_first' truncation strategy. If you encode pairs of sequences (GLUE-style) with the tokenizer you can select this strategy more precisely by providing a specific strategy to `truncation`.\n"
     ]
    }
   ],
   "source": [
    "input_txt = \"India is my country. All Indians are my brothers and sisters\"\n",
    "encodings = tokenizer.encode_plus(input_txt, add_special_tokens=True, max_length=16, return_tensors='pt', return_token_type_ids=False, return_attention_mask=True, pad_to_max_length=False)"
   ]
  },
  {
   "cell_type": "code",
   "execution_count": 15,
   "metadata": {
    "pycharm": {
     "name": "#%%\n"
    }
   },
   "outputs": [
    {
     "name": "stdout",
     "output_type": "stream",
     "text": [
      "input_ids :  tensor([[ 837,   27,   94,  234,    9,  394, 7056,   41,   94, 4194,   21, 8301,\n",
      "            4,    3]])\n"
     ]
    }
   ],
   "source": [
    "print('input_ids : ',encodings['input_ids'])"
   ]
  },
  {
   "cell_type": "code",
   "execution_count": 16,
   "metadata": {
    "pycharm": {
     "name": "#%%\n"
    }
   },
   "outputs": [
    {
     "data": {
      "text/plain": [
       "['▁India',\n",
       " '▁is',\n",
       " '▁my',\n",
       " '▁country',\n",
       " '.',\n",
       " '▁All',\n",
       " '▁Indians',\n",
       " '▁are',\n",
       " '▁my',\n",
       " '▁brothers',\n",
       " '▁and',\n",
       " '▁sisters',\n",
       " '<sep>',\n",
       " '<cls>']"
      ]
     },
     "execution_count": 16,
     "metadata": {},
     "output_type": "execute_result"
    }
   ],
   "source": [
    "tokenizer.convert_ids_to_tokens(encodings['input_ids'][0])"
   ]
  },
  {
   "cell_type": "code",
   "execution_count": 17,
   "metadata": {
    "pycharm": {
     "name": "#%%\n"
    }
   },
   "outputs": [
    {
     "data": {
      "text/plain": [
       "torch.Tensor"
      ]
     },
     "execution_count": 17,
     "metadata": {},
     "output_type": "execute_result"
    }
   ],
   "source": [
    "type(encodings['attention_mask'])"
   ]
  },
  {
   "cell_type": "code",
   "execution_count": 18,
   "metadata": {
    "pycharm": {
     "name": "#%%\n"
    }
   },
   "outputs": [],
   "source": [
    "attention_mask = pad_sequences(encodings['attention_mask'], maxlen=512, dtype=torch.Tensor ,truncating=\"post\",padding=\"post\")"
   ]
  },
  {
   "cell_type": "code",
   "execution_count": 19,
   "metadata": {
    "pycharm": {
     "name": "#%%\n"
    }
   },
   "outputs": [
    {
     "data": {
      "text/plain": [
       "tensor([1, 1, 1, 1, 1, 1, 1, 1, 1, 1, 1, 1, 1, 1, 0, 0, 0, 0, 0, 0, 0, 0, 0, 0,\n",
       "        0, 0, 0, 0, 0, 0, 0, 0, 0, 0, 0, 0, 0, 0, 0, 0, 0, 0, 0, 0, 0, 0, 0, 0,\n",
       "        0, 0, 0, 0, 0, 0, 0, 0, 0, 0, 0, 0, 0, 0, 0, 0, 0, 0, 0, 0, 0, 0, 0, 0,\n",
       "        0, 0, 0, 0, 0, 0, 0, 0, 0, 0, 0, 0, 0, 0, 0, 0, 0, 0, 0, 0, 0, 0, 0, 0,\n",
       "        0, 0, 0, 0, 0, 0, 0, 0, 0, 0, 0, 0, 0, 0, 0, 0, 0, 0, 0, 0, 0, 0, 0, 0,\n",
       "        0, 0, 0, 0, 0, 0, 0, 0, 0, 0, 0, 0, 0, 0, 0, 0, 0, 0, 0, 0, 0, 0, 0, 0,\n",
       "        0, 0, 0, 0, 0, 0, 0, 0, 0, 0, 0, 0, 0, 0, 0, 0, 0, 0, 0, 0, 0, 0, 0, 0,\n",
       "        0, 0, 0, 0, 0, 0, 0, 0, 0, 0, 0, 0, 0, 0, 0, 0, 0, 0, 0, 0, 0, 0, 0, 0,\n",
       "        0, 0, 0, 0, 0, 0, 0, 0, 0, 0, 0, 0, 0, 0, 0, 0, 0, 0, 0, 0, 0, 0, 0, 0,\n",
       "        0, 0, 0, 0, 0, 0, 0, 0, 0, 0, 0, 0, 0, 0, 0, 0, 0, 0, 0, 0, 0, 0, 0, 0,\n",
       "        0, 0, 0, 0, 0, 0, 0, 0, 0, 0, 0, 0, 0, 0, 0, 0, 0, 0, 0, 0, 0, 0, 0, 0,\n",
       "        0, 0, 0, 0, 0, 0, 0, 0, 0, 0, 0, 0, 0, 0, 0, 0, 0, 0, 0, 0, 0, 0, 0, 0,\n",
       "        0, 0, 0, 0, 0, 0, 0, 0, 0, 0, 0, 0, 0, 0, 0, 0, 0, 0, 0, 0, 0, 0, 0, 0,\n",
       "        0, 0, 0, 0, 0, 0, 0, 0, 0, 0, 0, 0, 0, 0, 0, 0, 0, 0, 0, 0, 0, 0, 0, 0,\n",
       "        0, 0, 0, 0, 0, 0, 0, 0, 0, 0, 0, 0, 0, 0, 0, 0, 0, 0, 0, 0, 0, 0, 0, 0,\n",
       "        0, 0, 0, 0, 0, 0, 0, 0, 0, 0, 0, 0, 0, 0, 0, 0, 0, 0, 0, 0, 0, 0, 0, 0,\n",
       "        0, 0, 0, 0, 0, 0, 0, 0, 0, 0, 0, 0, 0, 0, 0, 0, 0, 0, 0, 0, 0, 0, 0, 0,\n",
       "        0, 0, 0, 0, 0, 0, 0, 0, 0, 0, 0, 0, 0, 0, 0, 0, 0, 0, 0, 0, 0, 0, 0, 0,\n",
       "        0, 0, 0, 0, 0, 0, 0, 0, 0, 0, 0, 0, 0, 0, 0, 0, 0, 0, 0, 0, 0, 0, 0, 0,\n",
       "        0, 0, 0, 0, 0, 0, 0, 0, 0, 0, 0, 0, 0, 0, 0, 0, 0, 0, 0, 0, 0, 0, 0, 0,\n",
       "        0, 0, 0, 0, 0, 0, 0, 0, 0, 0, 0, 0, 0, 0, 0, 0, 0, 0, 0, 0, 0, 0, 0, 0,\n",
       "        0, 0, 0, 0, 0, 0, 0, 0])"
      ]
     },
     "execution_count": 19,
     "metadata": {},
     "output_type": "execute_result"
    }
   ],
   "source": [
    "attention_mask = attention_mask.astype(dtype = 'int64')\n",
    "attention_mask = torch.tensor(attention_mask) \n",
    "attention_mask.flatten()"
   ]
  },
  {
   "cell_type": "code",
   "execution_count": 20,
   "metadata": {
    "pycharm": {
     "name": "#%%\n"
    }
   },
   "outputs": [
    {
     "data": {
      "text/plain": [
       "tensor([[ 837,   27,   94,  234,    9,  394, 7056,   41,   94, 4194,   21, 8301,\n",
       "            4,    3]])"
      ]
     },
     "execution_count": 20,
     "metadata": {},
     "output_type": "execute_result"
    }
   ],
   "source": [
    "encodings['input_ids']"
   ]
  },
  {
   "cell_type": "markdown",
   "metadata": {},
   "source": [
    "### Checking the distribution of token lengths"
   ]
  },
  {
   "cell_type": "code",
   "execution_count": 21,
   "metadata": {
    "pycharm": {
     "name": "#%%\n"
    }
   },
   "outputs": [],
   "source": [
    "token_lens = []\n",
    "\n",
    "for txt in df['review']:\n",
    "  tokens = tokenizer.encode(txt, max_length=512)\n",
    "  token_lens.append(len(tokens))"
   ]
  },
  {
   "cell_type": "code",
   "execution_count": 22,
   "metadata": {
    "pycharm": {
     "name": "#%%\n"
    }
   },
   "outputs": [
    {
     "name": "stderr",
     "output_type": "stream",
     "text": [
      "/home/thai/miniconda3/lib/python3.8/site-packages/seaborn/distributions.py:2551: FutureWarning: `distplot` is a deprecated function and will be removed in a future version. Please adapt your code to use either `displot` (a figure-level function with similar flexibility) or `histplot` (an axes-level function for histograms).\n",
      "  warnings.warn(msg, FutureWarning)\n"
     ]
    },
    {
     "data": {
      "image/png": "[encoded data removed]",
      "text/plain": [
       "<Figure size 576x432 with 1 Axes>"
      ]
     },
     "metadata": {
      "image/png": {
       "height": 381,
       "width": 532
      }
     },
     "output_type": "display_data"
    }
   ],
   "source": [
    "sns.distplot(token_lens)\n",
    "plt.xlim([0, 1024]);\n",
    "plt.xlabel('Token count');"
   ]
  },
  {
   "cell_type": "code",
   "execution_count": 23,
   "metadata": {
    "pycharm": {
     "name": "#%%\n"
    }
   },
   "outputs": [],
   "source": [
    "MAX_LEN = 512"
   ]
  },
  {
   "cell_type": "markdown",
   "metadata": {},
   "source": [
    "### Custom Dataset class"
   ]
  },
  {
   "cell_type": "code",
   "execution_count": 24,
   "metadata": {
    "pycharm": {
     "name": "#%%\n"
    }
   },
   "outputs": [],
   "source": [
    "class ImdbDataset(Dataset):\n",
    "\n",
    "    def __init__(self, reviews, targets, tokenizer, max_len):\n",
    "        self.reviews = reviews\n",
    "        self.targets = targets\n",
    "        self.tokenizer = tokenizer\n",
    "        self.max_len = max_len\n",
    "    \n",
    "    def __len__(self):\n",
    "        return len(self.reviews)\n",
    "    \n",
    "    def __getitem__(self, item):\n",
    "        review = str(self.reviews[item])\n",
    "        target = self.targets[item]\n",
    "\n",
    "        encoding = self.tokenizer.encode_plus(\n",
    "        review,\n",
    "        add_special_tokens=True,\n",
    "        max_length=self.max_len,\n",
    "        return_token_type_ids=False,\n",
    "        pad_to_max_length=False,\n",
    "        return_attention_mask=True,\n",
    "        return_tensors='pt',\n",
    "        )\n",
    "\n",
    "        input_ids = pad_sequences(encoding['input_ids'], maxlen=MAX_LEN, dtype=torch.Tensor ,truncating=\"post\",padding=\"post\")\n",
    "        input_ids = input_ids.astype(dtype = 'int64')\n",
    "        input_ids = torch.tensor(input_ids) \n",
    "\n",
    "        attention_mask = pad_sequences(encoding['attention_mask'], maxlen=MAX_LEN, dtype=torch.Tensor ,truncating=\"post\",padding=\"post\")\n",
    "        attention_mask = attention_mask.astype(dtype = 'int64')\n",
    "        attention_mask = torch.tensor(attention_mask)       \n",
    "\n",
    "        return {\n",
    "        'review_text': review,\n",
    "        'input_ids': input_ids,\n",
    "        'attention_mask': attention_mask.flatten(),\n",
    "        'targets': torch.tensor(target, dtype=torch.long)\n",
    "        }"
   ]
  },
  {
   "cell_type": "code",
   "execution_count": 25,
   "metadata": {
    "pycharm": {
     "name": "#%%\n"
    }
   },
   "outputs": [],
   "source": [
    "df_train, df_test = train_test_split(df, test_size=0.5, random_state=101)\n",
    "df_val, df_test = train_test_split(df_test, test_size=0.5, random_state=101)"
   ]
  },
  {
   "cell_type": "code",
   "execution_count": 26,
   "metadata": {
    "pycharm": {
     "name": "#%%\n"
    }
   },
   "outputs": [
    {
     "data": {
      "text/plain": [
       "((1200, 2), (600, 2), (600, 2))"
      ]
     },
     "execution_count": 26,
     "metadata": {},
     "output_type": "execute_result"
    }
   ],
   "source": [
    "df_train.shape, df_val.shape, df_test.shape"
   ]
  },
  {
   "cell_type": "markdown",
   "metadata": {},
   "source": [
    "### Custom Dataloader"
   ]
  },
  {
   "cell_type": "code",
   "execution_count": 27,
   "metadata": {
    "pycharm": {
     "name": "#%%\n"
    }
   },
   "outputs": [],
   "source": [
    "def create_data_loader(df, tokenizer, max_len, batch_size):\n",
    "  ds = ImdbDataset(\n",
    "    reviews=df.review.to_numpy(),\n",
    "    targets=df.sentiment.to_numpy(),\n",
    "    tokenizer=tokenizer,\n",
    "    max_len=max_len\n",
    "  )\n",
    "\n",
    "  return DataLoader(\n",
    "    ds,\n",
    "    batch_size=batch_size,\n",
    "    num_workers=4\n",
    "  )"
   ]
  },
  {
   "cell_type": "code",
   "execution_count": 28,
   "metadata": {
    "pycharm": {
     "name": "#%%\n"
    }
   },
   "outputs": [],
   "source": [
    "BATCH_SIZE = 4\n",
    "\n",
    "train_data_loader = create_data_loader(df_train, tokenizer, MAX_LEN, BATCH_SIZE)\n",
    "val_data_loader = create_data_loader(df_val, tokenizer, MAX_LEN, BATCH_SIZE)\n",
    "test_data_loader = create_data_loader(df_test, tokenizer, MAX_LEN, BATCH_SIZE)"
   ]
  },
  {
   "cell_type": "markdown",
   "metadata": {},
   "source": [
    "### Loading the Pre-trained XLNet model for sequence classification from huggingface transformers"
   ]
  },
  {
   "cell_type": "code",
   "execution_count": 29,
   "metadata": {
    "pycharm": {
     "name": "#%%\n"
    }
   },
   "outputs": [
    {
     "name": "stderr",
     "output_type": "stream",
     "text": [
      "Some weights of the model checkpoint at xlnet-base-cased were not used when initializing XLNetForSequenceClassification: ['lm_loss.weight', 'lm_loss.bias']\n",
      "- This IS expected if you are initializing XLNetForSequenceClassification from the checkpoint of a model trained on another task or with another architecture (e.g. initializing a BertForSequenceClassification model from a BertForPreTraining model).\n",
      "- This IS NOT expected if you are initializing XLNetForSequenceClassification from the checkpoint of a model that you expect to be exactly identical (initializing a BertForSequenceClassification model from a BertForSequenceClassification model).\n",
      "Some weights of XLNetForSequenceClassification were not initialized from the model checkpoint at xlnet-base-cased and are newly initialized: ['sequence_summary.summary.weight', 'sequence_summary.summary.bias', 'logits_proj.weight', 'logits_proj.bias']\n",
      "You should probably TRAIN this model on a down-stream task to be able to use it for predictions and inference.\n"
     ]
    }
   ],
   "source": [
    "from transformers import XLNetForSequenceClassification\n",
    "model = XLNetForSequenceClassification.from_pretrained('xlnet-base-cased', num_labels = 2)\n",
    "model = model.to(device)"
   ]
  },
  {
   "cell_type": "code",
   "execution_count": 30,
   "metadata": {
    "pycharm": {
     "name": "#%%\n"
    }
   },
   "outputs": [
    {
     "data": {
      "text/plain": [
       "XLNetForSequenceClassification(\n",
       "  (transformer): XLNetModel(\n",
       "    (word_embedding): Embedding(32000, 768)\n",
       "    (layer): ModuleList(\n",
       "      (0): XLNetLayer(\n",
       "        (rel_attn): XLNetRelativeAttention(\n",
       "          (layer_norm): LayerNorm((768,), eps=1e-12, elementwise_affine=True)\n",
       "          (dropout): Dropout(p=0.1, inplace=False)\n",
       "        )\n",
       "        (ff): XLNetFeedForward(\n",
       "          (layer_norm): LayerNorm((768,), eps=1e-12, elementwise_affine=True)\n",
       "          (layer_1): Linear(in_features=768, out_features=3072, bias=True)\n",
       "          (layer_2): Linear(in_features=3072, out_features=768, bias=True)\n",
       "          (dropout): Dropout(p=0.1, inplace=False)\n",
       "        )\n",
       "        (dropout): Dropout(p=0.1, inplace=False)\n",
       "      )\n",
       "      (1): XLNetLayer(\n",
       "        (rel_attn): XLNetRelativeAttention(\n",
       "          (layer_norm): LayerNorm((768,), eps=1e-12, elementwise_affine=True)\n",
       "          (dropout): Dropout(p=0.1, inplace=False)\n",
       "        )\n",
       "        (ff): XLNetFeedForward(\n",
       "          (layer_norm): LayerNorm((768,), eps=1e-12, elementwise_affine=True)\n",
       "          (layer_1): Linear(in_features=768, out_features=3072, bias=True)\n",
       "          (layer_2): Linear(in_features=3072, out_features=768, bias=True)\n",
       "          (dropout): Dropout(p=0.1, inplace=False)\n",
       "        )\n",
       "        (dropout): Dropout(p=0.1, inplace=False)\n",
       "      )\n",
       "      (2): XLNetLayer(\n",
       "        (rel_attn): XLNetRelativeAttention(\n",
       "          (layer_norm): LayerNorm((768,), eps=1e-12, elementwise_affine=True)\n",
       "          (dropout): Dropout(p=0.1, inplace=False)\n",
       "        )\n",
       "        (ff): XLNetFeedForward(\n",
       "          (layer_norm): LayerNorm((768,), eps=1e-12, elementwise_affine=True)\n",
       "          (layer_1): Linear(in_features=768, out_features=3072, bias=True)\n",
       "          (layer_2): Linear(in_features=3072, out_features=768, bias=True)\n",
       "          (dropout): Dropout(p=0.1, inplace=False)\n",
       "        )\n",
       "        (dropout): Dropout(p=0.1, inplace=False)\n",
       "      )\n",
       "      (3): XLNetLayer(\n",
       "        (rel_attn): XLNetRelativeAttention(\n",
       "          (layer_norm): LayerNorm((768,), eps=1e-12, elementwise_affine=True)\n",
       "          (dropout): Dropout(p=0.1, inplace=False)\n",
       "        )\n",
       "        (ff): XLNetFeedForward(\n",
       "          (layer_norm): LayerNorm((768,), eps=1e-12, elementwise_affine=True)\n",
       "          (layer_1): Linear(in_features=768, out_features=3072, bias=True)\n",
       "          (layer_2): Linear(in_features=3072, out_features=768, bias=True)\n",
       "          (dropout): Dropout(p=0.1, inplace=False)\n",
       "        )\n",
       "        (dropout): Dropout(p=0.1, inplace=False)\n",
       "      )\n",
       "      (4): XLNetLayer(\n",
       "        (rel_attn): XLNetRelativeAttention(\n",
       "          (layer_norm): LayerNorm((768,), eps=1e-12, elementwise_affine=True)\n",
       "          (dropout): Dropout(p=0.1, inplace=False)\n",
       "        )\n",
       "        (ff): XLNetFeedForward(\n",
       "          (layer_norm): LayerNorm((768,), eps=1e-12, elementwise_affine=True)\n",
       "          (layer_1): Linear(in_features=768, out_features=3072, bias=True)\n",
       "          (layer_2): Linear(in_features=3072, out_features=768, bias=True)\n",
       "          (dropout): Dropout(p=0.1, inplace=False)\n",
       "        )\n",
       "        (dropout): Dropout(p=0.1, inplace=False)\n",
       "      )\n",
       "      (5): XLNetLayer(\n",
       "        (rel_attn): XLNetRelativeAttention(\n",
       "          (layer_norm): LayerNorm((768,), eps=1e-12, elementwise_affine=True)\n",
       "          (dropout): Dropout(p=0.1, inplace=False)\n",
       "        )\n",
       "        (ff): XLNetFeedForward(\n",
       "          (layer_norm): LayerNorm((768,), eps=1e-12, elementwise_affine=True)\n",
       "          (layer_1): Linear(in_features=768, out_features=3072, bias=True)\n",
       "          (layer_2): Linear(in_features=3072, out_features=768, bias=True)\n",
       "          (dropout): Dropout(p=0.1, inplace=False)\n",
       "        )\n",
       "        (dropout): Dropout(p=0.1, inplace=False)\n",
       "      )\n",
       "      (6): XLNetLayer(\n",
       "        (rel_attn): XLNetRelativeAttention(\n",
       "          (layer_norm): LayerNorm((768,), eps=1e-12, elementwise_affine=True)\n",
       "          (dropout): Dropout(p=0.1, inplace=False)\n",
       "        )\n",
       "        (ff): XLNetFeedForward(\n",
       "          (layer_norm): LayerNorm((768,), eps=1e-12, elementwise_affine=True)\n",
       "          (layer_1): Linear(in_features=768, out_features=3072, bias=True)\n",
       "          (layer_2): Linear(in_features=3072, out_features=768, bias=True)\n",
       "          (dropout): Dropout(p=0.1, inplace=False)\n",
       "        )\n",
       "        (dropout): Dropout(p=0.1, inplace=False)\n",
       "      )\n",
       "      (7): XLNetLayer(\n",
       "        (rel_attn): XLNetRelativeAttention(\n",
       "          (layer_norm): LayerNorm((768,), eps=1e-12, elementwise_affine=True)\n",
       "          (dropout): Dropout(p=0.1, inplace=False)\n",
       "        )\n",
       "        (ff): XLNetFeedForward(\n",
       "          (layer_norm): LayerNorm((768,), eps=1e-12, elementwise_affine=True)\n",
       "          (layer_1): Linear(in_features=768, out_features=3072, bias=True)\n",
       "          (layer_2): Linear(in_features=3072, out_features=768, bias=True)\n",
       "          (dropout): Dropout(p=0.1, inplace=False)\n",
       "        )\n",
       "        (dropout): Dropout(p=0.1, inplace=False)\n",
       "      )\n",
       "      (8): XLNetLayer(\n",
       "        (rel_attn): XLNetRelativeAttention(\n",
       "          (layer_norm): LayerNorm((768,), eps=1e-12, elementwise_affine=True)\n",
       "          (dropout): Dropout(p=0.1, inplace=False)\n",
       "        )\n",
       "        (ff): XLNetFeedForward(\n",
       "          (layer_norm): LayerNorm((768,), eps=1e-12, elementwise_affine=True)\n",
       "          (layer_1): Linear(in_features=768, out_features=3072, bias=True)\n",
       "          (layer_2): Linear(in_features=3072, out_features=768, bias=True)\n",
       "          (dropout): Dropout(p=0.1, inplace=False)\n",
       "        )\n",
       "        (dropout): Dropout(p=0.1, inplace=False)\n",
       "      )\n",
       "      (9): XLNetLayer(\n",
       "        (rel_attn): XLNetRelativeAttention(\n",
       "          (layer_norm): LayerNorm((768,), eps=1e-12, elementwise_affine=True)\n",
       "          (dropout): Dropout(p=0.1, inplace=False)\n",
       "        )\n",
       "        (ff): XLNetFeedForward(\n",
       "          (layer_norm): LayerNorm((768,), eps=1e-12, elementwise_affine=True)\n",
       "          (layer_1): Linear(in_features=768, out_features=3072, bias=True)\n",
       "          (layer_2): Linear(in_features=3072, out_features=768, bias=True)\n",
       "          (dropout): Dropout(p=0.1, inplace=False)\n",
       "        )\n",
       "        (dropout): Dropout(p=0.1, inplace=False)\n",
       "      )\n",
       "      (10): XLNetLayer(\n",
       "        (rel_attn): XLNetRelativeAttention(\n",
       "          (layer_norm): LayerNorm((768,), eps=1e-12, elementwise_affine=True)\n",
       "          (dropout): Dropout(p=0.1, inplace=False)\n",
       "        )\n",
       "        (ff): XLNetFeedForward(\n",
       "          (layer_norm): LayerNorm((768,), eps=1e-12, elementwise_affine=True)\n",
       "          (layer_1): Linear(in_features=768, out_features=3072, bias=True)\n",
       "          (layer_2): Linear(in_features=3072, out_features=768, bias=True)\n",
       "          (dropout): Dropout(p=0.1, inplace=False)\n",
       "        )\n",
       "        (dropout): Dropout(p=0.1, inplace=False)\n",
       "      )\n",
       "      (11): XLNetLayer(\n",
       "        (rel_attn): XLNetRelativeAttention(\n",
       "          (layer_norm): LayerNorm((768,), eps=1e-12, elementwise_affine=True)\n",
       "          (dropout): Dropout(p=0.1, inplace=False)\n",
       "        )\n",
       "        (ff): XLNetFeedForward(\n",
       "          (layer_norm): LayerNorm((768,), eps=1e-12, elementwise_affine=True)\n",
       "          (layer_1): Linear(in_features=768, out_features=3072, bias=True)\n",
       "          (layer_2): Linear(in_features=3072, out_features=768, bias=True)\n",
       "          (dropout): Dropout(p=0.1, inplace=False)\n",
       "        )\n",
       "        (dropout): Dropout(p=0.1, inplace=False)\n",
       "      )\n",
       "    )\n",
       "    (dropout): Dropout(p=0.1, inplace=False)\n",
       "  )\n",
       "  (sequence_summary): SequenceSummary(\n",
       "    (summary): Linear(in_features=768, out_features=768, bias=True)\n",
       "    (first_dropout): Identity()\n",
       "    (last_dropout): Dropout(p=0.1, inplace=False)\n",
       "  )\n",
       "  (logits_proj): Linear(in_features=768, out_features=2, bias=True)\n",
       ")"
      ]
     },
     "execution_count": 30,
     "metadata": {},
     "output_type": "execute_result"
    }
   ],
   "source": [
    "model"
   ]
  },
  {
   "cell_type": "markdown",
   "metadata": {},
   "source": [
    "### Setting Hyperparameters"
   ]
  },
  {
   "cell_type": "code",
   "execution_count": 31,
   "metadata": {
    "pycharm": {
     "name": "#%%\n"
    }
   },
   "outputs": [],
   "source": [
    "EPOCHS = 3\n",
    "\n",
    "param_optimizer = list(model.named_parameters())\n",
    "no_decay = ['bias', 'LayerNorm.bias', 'LayerNorm.weight']\n",
    "optimizer_grouped_parameters = [\n",
    "                                {'params': [p for n, p in param_optimizer if not any(nd in n for nd in no_decay)], 'weight_decay': 0.01},\n",
    "                                {'params': [p for n, p in param_optimizer if any(nd in n for nd in no_decay)], 'weight_decay':0.0}\n",
    "]\n",
    "optimizer = AdamW(optimizer_grouped_parameters, lr=3e-5)\n",
    "\n",
    "total_steps = len(train_data_loader) * EPOCHS\n",
    "\n",
    "scheduler = get_linear_schedule_with_warmup(\n",
    "  optimizer,\n",
    "  num_warmup_steps=0,\n",
    "  num_training_steps=total_steps\n",
    ")"
   ]
  },
  {
   "cell_type": "markdown",
   "metadata": {},
   "source": [
    "### Sanity check with one batch"
   ]
  },
  {
   "cell_type": "code",
   "execution_count": 32,
   "metadata": {
    "pycharm": {
     "name": "#%%\n"
    }
   },
   "outputs": [
    {
     "data": {
      "text/plain": [
       "dict_keys(['review_text', 'input_ids', 'attention_mask', 'targets'])"
      ]
     },
     "execution_count": 32,
     "metadata": {},
     "output_type": "execute_result"
    }
   ],
   "source": [
    "data = next(iter(val_data_loader))\n",
    "data.keys()"
   ]
  },
  {
   "cell_type": "code",
   "execution_count": 33,
   "metadata": {
    "pycharm": {
     "name": "#%%\n"
    }
   },
   "outputs": [
    {
     "name": "stdout",
     "output_type": "stream",
     "text": [
      "torch.Size([4, 512])\n",
      "torch.Size([4, 512])\n"
     ]
    }
   ],
   "source": [
    "input_ids = data['input_ids'].to(device)\n",
    "attention_mask = data['attention_mask'].to(device)\n",
    "targets = data['targets'].to(device)\n",
    "print(input_ids.reshape(4,512).shape) # batch size x seq length\n",
    "print(attention_mask.shape) # batch size x seq length"
   ]
  },
  {
   "cell_type": "code",
   "execution_count": 34,
   "metadata": {
    "pycharm": {
     "name": "#%%\n"
    }
   },
   "outputs": [
    {
     "data": {
      "text/plain": [
       "tensor([[ 4037,    25,    18,   191,    35,    30,    65,    20,    18,    17,\n",
       "         18034,    26,    23,    25,    18, 11535,  7053,    23,   166, 20464,\n",
       "            23,    74,  6151,   883,    25,     9,   200,    55,    50,  3170,\n",
       "           143,    21,   106,    20,    36,    30,   959,    31,    37,    58,\n",
       "            24, 15145, 16576,    57,    80,    71,   822,    63,    55,    24,\n",
       "          9631,  7353,    20,  3609, 19622,    23,   176,   137,     9,   200,\n",
       "         13375,   352,   519,   100,    63,   596,    35,    26,    98,  4155,\n",
       "             9,   200,    54,  5413,    25, 28521,    23,     9,    17,  2369,\n",
       "            17,  2369,    35,    26,    98,   102,  5590,    35,  1976,    52,\n",
       "          6313,    31,    35,  9513,  4445,    36,    53,    39,    31,   292,\n",
       "            38,   156,   569,    21,    35,    26,   215,    39,  2441,   292,\n",
       "           136,    17,  2369,    17,  2369,  3889,  1219,    30,   502,    22,\n",
       "           107,   259,    18,  2628,  6617,  4949,    30,   551,    22,  1034,\n",
       "            45,  1179,    91, 26379,    18,  3176,    21,    18,   468,   343,\n",
       "         10430,    29,    34,    18,   637,   177,   424,     9,     9,     9,\n",
       "             9,   669,    30,    48,  3704,    92,    21, 13375,    22,    39,\n",
       "          1834,     9,   524,  6412,  2427,   212,   751,    27,   542,    71,\n",
       "            18,  7718, 17193,    68,    31,   103,    21,   206,   132,   186,\n",
       "          2126, 10638,  1991,    58,  6059,    21,  5313,    22,    18,   525,\n",
       "          3025,    20, 28724,    56,     9,   228,    28,    18,   274, 14146,\n",
       "         19599,  3312,  3775, 18788,   105,   426,    55,    21,   105,   426,\n",
       "            53,    39, 20424,  9865,    23,    21,  5322,   270,    31,    61,\n",
       "           287,   112,    70,   100,  2986,     9,     9,     9,   305,  2126,\n",
       "          3434,  2042,    36, 18153,    36,    55,    36,     9,    17,  2369,\n",
       "            17,  2369, 14313,    22,   197,    18, 13288,  2701,    21,   176,\n",
       "            18, 13569,  1615, 25876,    61,    30,   102,  4179,    75,    34,\n",
       "           163,    18,   114,  2104,    22,   521,    58,  2024,     9,    17,\n",
       "          2369,    17,  2369,  4842,    22,    35,  9513,    35,   133,    22,\n",
       "           343,   182,    18,  8841,  1208,   325,   291,  1617,    20,    94,\n",
       "          3175,    21,    17,    88,  8032,    18,   758, 16747,  9304,   292,\n",
       "             9,     4,     3,     0,     0,     0,     0,     0,     0,     0,\n",
       "             0,     0,     0,     0,     0,     0,     0,     0,     0,     0,\n",
       "             0,     0,     0,     0,     0,     0,     0,     0,     0,     0,\n",
       "             0,     0,     0,     0,     0,     0,     0,     0,     0,     0,\n",
       "             0,     0,     0,     0,     0,     0,     0,     0,     0,     0,\n",
       "             0,     0,     0,     0,     0,     0,     0,     0,     0,     0,\n",
       "             0,     0,     0,     0,     0,     0,     0,     0,     0,     0,\n",
       "             0,     0,     0,     0,     0,     0,     0,     0,     0,     0,\n",
       "             0,     0,     0,     0,     0,     0,     0,     0,     0,     0,\n",
       "             0,     0,     0,     0,     0,     0,     0,     0,     0,     0,\n",
       "             0,     0,     0,     0,     0,     0,     0,     0,     0,     0,\n",
       "             0,     0,     0,     0,     0,     0,     0,     0,     0,     0,\n",
       "             0,     0,     0,     0,     0,     0,     0,     0,     0,     0,\n",
       "             0,     0,     0,     0,     0,     0,     0,     0,     0,     0,\n",
       "             0,     0,     0,     0,     0,     0,     0,     0,     0,     0,\n",
       "             0,     0,     0,     0,     0,     0,     0,     0,     0,     0,\n",
       "             0,     0,     0,     0,     0,     0,     0,     0,     0,     0,\n",
       "             0,     0,     0,     0,     0,     0,     0,     0,     0,     0,\n",
       "             0,     0,     0,     0,     0,     0,     0,     0,     0,     0,\n",
       "             0,     0,     0,     0,     0,     0,     0,     0,     0,     0,\n",
       "             0,     0,     0,     0,     0,     0,     0,     0,     0,     0,\n",
       "             0,     0]])"
      ]
     },
     "execution_count": 34,
     "metadata": {},
     "output_type": "execute_result"
    }
   ],
   "source": [
    "input_ids[0]"
   ]
  },
  {
   "cell_type": "code",
   "execution_count": 35,
   "metadata": {
    "pycharm": {
     "name": "#%%\n"
    }
   },
   "outputs": [
    {
     "data": {
      "text/plain": [
       "(tensor(0.6205, grad_fn=<NllLossBackward>),\n",
       " tensor([[-0.8688, -0.4152],\n",
       "         [-0.8374, -0.5014],\n",
       "         [-0.4694, -0.1109],\n",
       "         [-0.7312, -0.5021]], grad_fn=<AddmmBackward>),\n",
       " (tensor([[[-0.0003, -0.0714, -0.0284,  ..., -0.0272, -0.0187, -0.0168],\n",
       "           [ 0.0327,  0.0826, -0.0580,  ..., -0.0299, -0.0298, -0.0349],\n",
       "           [-0.0230,  0.0060,  0.0258,  ..., -0.0171,  0.0160, -0.0353],\n",
       "           [ 0.0037, -0.0221,  0.0072,  ..., -0.0612, -0.0570, -0.0026]],\n",
       "  \n",
       "          [[ 0.0155,  0.0256, -0.0233,  ...,  0.0363,  0.0328, -0.0265],\n",
       "           [ 0.0317,  0.0366,  0.0049,  ..., -0.0640, -0.0520, -0.0350],\n",
       "           [-0.0215, -0.0130, -0.0203,  ..., -0.0170,  0.0448, -0.0015],\n",
       "           [-0.0405,  0.0164,  0.0054,  ...,  0.0058,  0.0022, -0.0023]],\n",
       "  \n",
       "          [[-0.0281, -0.0161, -0.0106,  ..., -0.0265,  0.0269, -0.0193],\n",
       "           [-0.0248,  0.0056, -0.0158,  ...,  0.0115,  0.0446,  0.0220],\n",
       "           [ 0.0002,  0.0585,  0.0009,  ...,  0.0253,  0.0081, -0.0525],\n",
       "           [-0.0651,  0.1278,  0.0349,  ...,  0.0279,  0.0421, -0.0426]],\n",
       "  \n",
       "          ...,\n",
       "  \n",
       "          [[-0.0049,  0.0655, -0.0151,  ..., -0.0458, -0.0061,  0.0346],\n",
       "           [-0.0049,  0.0655, -0.0151,  ..., -0.0458, -0.0061,  0.0346],\n",
       "           [-0.0156, -0.0320,  0.0172,  ...,  0.0361,  0.0061,  0.0299],\n",
       "           [-0.0049,  0.0655, -0.0151,  ..., -0.0458, -0.0061,  0.0346]],\n",
       "  \n",
       "          [[-0.0049,  0.0655, -0.0151,  ..., -0.0458, -0.0061,  0.0346],\n",
       "           [-0.0049,  0.0655, -0.0151,  ..., -0.0458, -0.0061,  0.0346],\n",
       "           [ 0.0788, -0.0583, -0.0905,  ...,  0.0493,  0.0634, -0.0520],\n",
       "           [-0.0049,  0.0655, -0.0151,  ..., -0.0458, -0.0061,  0.0346]],\n",
       "  \n",
       "          [[-0.0049,  0.0655, -0.0151,  ..., -0.0458, -0.0061,  0.0346],\n",
       "           [-0.0049,  0.0655, -0.0151,  ..., -0.0458, -0.0061,  0.0346],\n",
       "           [ 0.0181, -0.0015, -0.1494,  ...,  0.0012, -0.0009,  0.0188],\n",
       "           [-0.0049,  0.0655, -0.0151,  ..., -0.0458, -0.0061,  0.0346]]]),\n",
       "  tensor([[[ 2.3675e-01, -2.0481e+00, -5.7779e-01,  ..., -7.4026e-01,\n",
       "            -6.0325e-04,  1.2138e-01],\n",
       "           [ 2.0949e-01,  1.7091e+00, -1.1512e+00,  ..., -5.9640e-01,\n",
       "            -3.5687e-01,  2.7829e-01],\n",
       "           [ 3.5873e-01,  5.2099e-01,  7.3858e-01,  ..., -2.9801e-01,\n",
       "            -1.3478e-01,  2.6999e-02],\n",
       "           [-5.3023e-01, -5.6090e-01, -2.2773e-01,  ..., -1.1070e+00,\n",
       "            -8.4845e-01,  7.8581e-01]],\n",
       "  \n",
       "          [[ 6.8218e-01,  1.4703e-01, -5.7275e-01,  ...,  1.3329e-01,\n",
       "             4.5860e-01, -1.8531e-01],\n",
       "           [-2.6098e-01,  3.7276e-02, -5.0475e-01,  ..., -1.2387e+00,\n",
       "            -1.0927e-01, -6.8160e-01],\n",
       "           [-8.9026e-01, -2.0219e-01, -3.3248e-01,  ..., -3.9912e-01,\n",
       "             3.8028e-02, -1.0164e-01],\n",
       "           [-1.2341e+00, -2.3563e-01, -2.7209e-01,  ..., -1.1546e-01,\n",
       "            -6.0196e-01, -5.8721e-01]],\n",
       "  \n",
       "          [[-4.0288e-02, -5.8504e-02, -8.8270e-02,  ..., -7.6640e-01,\n",
       "             2.4940e-01,  3.7501e-01],\n",
       "           [-9.3253e-01,  2.1456e-01, -4.1875e-01,  ...,  4.0588e-02,\n",
       "             1.0835e+00,  9.4503e-01],\n",
       "           [-3.2628e-01,  1.1326e+00, -1.6159e-01,  ...,  3.4386e-01,\n",
       "             7.1645e-01, -3.7486e-01],\n",
       "           [-1.4821e+00,  2.8817e+00,  3.9395e-01,  ..., -2.0907e-01,\n",
       "             9.8682e-01, -4.0053e-01]],\n",
       "  \n",
       "          ...,\n",
       "  \n",
       "          [[ 1.8940e-01,  2.0961e+00, -3.6859e-02,  ..., -3.7097e-01,\n",
       "            -3.5655e-01,  8.2472e-01],\n",
       "           [-3.3501e-02,  2.0035e+00,  2.5192e-02,  ..., -5.5378e-01,\n",
       "            -8.8544e-01,  8.3327e-01],\n",
       "           [ 4.7892e-01, -1.5775e+00,  8.0163e-02,  ..., -8.1368e-01,\n",
       "            -1.2147e-01,  7.1613e-01],\n",
       "           [ 1.0818e-01,  1.9982e+00, -1.5795e-01,  ..., -3.7606e-01,\n",
       "            -2.5810e-01,  8.0783e-01]],\n",
       "  \n",
       "          [[ 2.0909e-01,  2.0744e+00, -5.7014e-02,  ..., -4.0072e-01,\n",
       "            -3.3547e-01,  8.2376e-01],\n",
       "           [-5.5866e-02,  2.0273e+00,  7.0731e-02,  ..., -5.6241e-01,\n",
       "            -9.2715e-01,  8.4237e-01],\n",
       "           [ 1.3500e+00, -7.0726e-01, -1.5296e+00,  ...,  6.5496e-01,\n",
       "             5.0798e-01, -5.5286e-02],\n",
       "           [ 1.5697e-01,  1.9635e+00, -1.6691e-01,  ..., -3.7743e-01,\n",
       "            -2.3921e-01,  8.3183e-01]],\n",
       "  \n",
       "          [[ 2.0275e-01,  2.0298e+00, -6.0197e-02,  ..., -4.1956e-01,\n",
       "            -3.4098e-01,  8.2743e-01],\n",
       "           [-2.9476e-02,  1.9842e+00,  6.4680e-02,  ..., -6.0086e-01,\n",
       "            -9.5011e-01,  8.4688e-01],\n",
       "           [ 6.1841e-01, -4.0401e-01, -2.3120e+00,  ...,  4.6793e-01,\n",
       "            -2.4465e-02,  4.2934e-01],\n",
       "           [ 1.7348e-01,  1.9832e+00, -1.8584e-01,  ..., -3.7087e-01,\n",
       "            -1.8359e-01,  8.8497e-01]]]),\n",
       "  tensor([[[ 0.6462, -1.6315,  0.0220,  ..., -0.6327, -0.0037, -0.1934],\n",
       "           [-0.4146,  0.6788, -1.4947,  ..., -0.1572, -0.1482, -0.0269],\n",
       "           [-0.1800,  0.5477,  1.7574,  ...,  0.2098, -0.3245, -0.1352],\n",
       "           [-0.3166, -0.8343, -0.3373,  ..., -0.8079, -0.6234,  0.7112]],\n",
       "  \n",
       "          [[ 0.7492, -0.7340, -1.0482,  ..., -0.2142, -0.1474,  0.1489],\n",
       "           [-0.3108, -0.3535, -0.1874,  ..., -0.5841, -0.4681, -0.1083],\n",
       "           [-0.4640, -0.7701, -0.2083,  ...,  0.2065, -0.9729, -0.5673],\n",
       "           [-1.1758, -0.5090,  0.2161,  ...,  0.0527, -0.5249, -0.7107]],\n",
       "  \n",
       "          [[-0.2883, -0.4845,  0.1082,  ..., -0.7879,  0.0763,  0.5967],\n",
       "           [-1.2635,  0.4206,  0.0624,  ..., -0.2981,  0.6502,  1.1528],\n",
       "           [-0.6628,  0.1831, -0.4156,  ...,  0.3267,  0.7955, -0.7043],\n",
       "           [-1.3460,  1.9797,  0.2841,  ..., -0.0659,  0.4770,  0.2548]],\n",
       "  \n",
       "          ...,\n",
       "  \n",
       "          [[-0.1745,  1.8651,  0.3383,  ..., -0.0489, -0.1346,  0.7589],\n",
       "           [-0.3289,  1.8694,  0.2171,  ...,  0.0914, -0.6389,  0.9096],\n",
       "           [ 0.5160, -1.4892,  0.0881,  ..., -0.8892,  0.1242, -0.0479],\n",
       "           [-0.0671,  1.6608, -0.0275,  ...,  0.0731,  0.0769,  0.6388]],\n",
       "  \n",
       "          [[-0.1158,  1.8450,  0.3569,  ..., -0.1191, -0.0887,  0.7806],\n",
       "           [-0.3808,  1.8575,  0.2376,  ...,  0.0929, -0.7068,  0.9892],\n",
       "           [ 1.0596, -0.5451, -1.6511,  ...,  0.5100,  0.9983, -0.0915],\n",
       "           [-0.0578,  1.6814,  0.0279,  ...,  0.0502,  0.1147,  0.6323]],\n",
       "  \n",
       "          [[-0.0246,  1.7963,  0.4024,  ..., -0.1854, -0.1128,  0.7961],\n",
       "           [-0.3743,  1.8011,  0.2722,  ...,  0.0420, -0.7845,  1.0028],\n",
       "           [ 0.5093, -0.5745, -2.5420,  ...,  0.6273,  0.4419,  0.2349],\n",
       "           [-0.0572,  1.7302,  0.0501,  ...,  0.0408,  0.1288,  0.6807]]]),\n",
       "  tensor([[[ 0.3109, -1.9558, -0.2745,  ..., -0.7962, -0.4164, -0.1435],\n",
       "           [-0.5326,  0.8559, -2.0223,  ..., -0.0575,  0.1143, -0.4549],\n",
       "           [-0.2951,  0.8401,  0.8311,  ...,  0.1066, -0.3537, -0.0509],\n",
       "           [-0.3787, -0.5746, -0.2306,  ..., -0.5238, -0.4551,  0.1765]],\n",
       "  \n",
       "          [[ 0.5023, -1.5578, -1.0465,  ..., -0.8198, -0.3927, -0.7374],\n",
       "           [-0.8722, -0.0938, -0.6660,  ..., -0.8657, -0.9255,  0.0287],\n",
       "           [-0.6495, -1.1529, -0.5253,  ...,  0.1734, -1.9523, -0.6814],\n",
       "           [-1.3077, -0.8448,  0.2012,  ...,  0.5664, -0.7093, -1.2342]],\n",
       "  \n",
       "          [[ 0.0818, -1.5183,  0.2765,  ..., -1.1198, -0.2314, -0.2895],\n",
       "           [-1.0204,  0.7266, -0.0639,  ..., -1.3121,  0.7677,  1.2642],\n",
       "           [-1.0771, -0.1622, -0.6272,  ...,  0.2087,  0.8181, -0.5086],\n",
       "           [-1.3123,  2.4783,  0.5750,  ..., -0.1948,  0.1862, -0.5927]],\n",
       "  \n",
       "          ...,\n",
       "  \n",
       "          [[-0.2841,  2.7530,  0.1540,  ...,  1.0709, -0.4134,  1.4767],\n",
       "           [-0.4945,  2.8251,  0.1825,  ...,  0.9250, -0.8239,  0.9598],\n",
       "           [ 0.6078, -1.5676,  0.3219,  ..., -0.3067,  0.0403, -0.6232],\n",
       "           [-0.2254,  2.3701,  0.4306,  ...,  0.8210, -0.1034,  1.2348]],\n",
       "  \n",
       "          [[-0.2435,  2.7782,  0.1711,  ...,  1.0155, -0.4099,  1.4482],\n",
       "           [-0.5192,  2.8009,  0.1486,  ...,  1.0063, -0.8345,  0.9464],\n",
       "           [ 0.7824, -0.2326, -1.6058,  ...,  1.4271,  1.1116, -2.0410],\n",
       "           [-0.2259,  2.4215,  0.4627,  ...,  0.7697, -0.0812,  1.2446]],\n",
       "  \n",
       "          [[-0.2042,  2.6858,  0.2496,  ...,  0.9574, -0.4775,  1.5150],\n",
       "           [-0.5002,  2.7015,  0.2038,  ...,  0.8750, -0.9401,  1.0999],\n",
       "           [ 0.8555, -0.0350, -2.6104,  ...,  1.4696,  0.4351, -0.5824],\n",
       "           [-0.2429,  2.4689,  0.4637,  ...,  0.8008, -0.0631,  1.2607]]]),\n",
       "  tensor([[[ 0.1094, -0.7545, -0.7769,  ...,  0.2519, -0.6602, -0.1429],\n",
       "           [-0.6813,  0.4626, -2.4510,  ...,  0.1937, -1.0631, -0.4202],\n",
       "           [-0.4217,  0.6242,  0.3324,  ...,  0.6880, -0.5667, -0.1406],\n",
       "           [-0.6063, -0.5500, -0.3079,  ..., -0.2129, -1.0935,  0.7511]],\n",
       "  \n",
       "          [[ 0.4668, -0.7926, -0.9390,  ...,  0.1814, -1.9217, -0.2951],\n",
       "           [-0.1597, -0.0988, -1.5249,  ..., -0.5192, -1.4911,  0.1916],\n",
       "           [-0.8130, -1.0426, -0.8663,  ...,  0.5339, -2.9283, -0.3237],\n",
       "           [-1.4251, -0.7846, -0.3699,  ...,  0.3015, -0.6981, -0.2961]],\n",
       "  \n",
       "          [[ 0.1381, -0.7570, -0.0030,  ...,  0.0170, -1.4393, -0.1742],\n",
       "           [-1.2253,  0.5191, -0.3162,  ..., -1.1400,  0.2330,  1.4419],\n",
       "           [-1.0696, -0.3875, -0.8906,  ...,  0.3359,  0.0497,  0.7105],\n",
       "           [-1.0487,  2.2055, -0.1259,  ..., -0.2772, -0.6656, -0.3060]],\n",
       "  \n",
       "          ...,\n",
       "  \n",
       "          [[ 0.1095,  2.1439,  0.3660,  ...,  1.4040,  0.1817,  1.6064],\n",
       "           [-0.3751,  2.5123, -0.0219,  ...,  1.5266, -0.4864,  1.5715],\n",
       "           [-0.0591, -1.1093,  0.4571,  ..., -0.8817,  0.7833, -0.6234],\n",
       "           [-0.0261,  1.7544,  0.4058,  ...,  1.1270,  0.3528,  1.6840]],\n",
       "  \n",
       "          [[ 0.1550,  2.1915,  0.3721,  ...,  1.3785,  0.2190,  1.5247],\n",
       "           [-0.3559,  2.5118, -0.0230,  ...,  1.5776, -0.4762,  1.5262],\n",
       "           [ 1.4977, -0.4395, -1.8136,  ...,  1.0869,  0.7238, -0.5452],\n",
       "           [ 0.0148,  1.7782,  0.4321,  ...,  1.0239,  0.4178,  1.6942]],\n",
       "  \n",
       "          [[ 0.2333,  2.1472,  0.4215,  ...,  1.3229,  0.1643,  1.5448],\n",
       "           [-0.2982,  2.4865, -0.0401,  ...,  1.4885, -0.5882,  1.6140],\n",
       "           [ 1.7436, -0.0800, -2.5342,  ...,  0.8763,  0.0189,  0.1534],\n",
       "           [ 0.0309,  1.7960,  0.4639,  ...,  1.0312,  0.4678,  1.7001]]]),\n",
       "  tensor([[[ 4.0042e-01, -9.9980e-01, -5.2829e-01,  ..., -1.1096e-01,\n",
       "            -5.8227e-02, -2.4214e-01],\n",
       "           [-7.9929e-01,  4.7586e-01, -1.4231e+00,  ..., -3.4900e-01,\n",
       "            -7.1589e-01, -1.2509e-01],\n",
       "           [-4.0572e-02,  1.6907e-01,  9.8695e-02,  ..., -4.9856e-02,\n",
       "            -4.2994e-01,  4.8445e-02],\n",
       "           [-2.0656e-01, -4.0833e-01,  1.7101e-01,  ..., -7.8310e-01,\n",
       "            -8.9939e-01,  2.5862e-01]],\n",
       "  \n",
       "          [[ 4.5268e-01, -6.1710e-01, -3.6990e-01,  ..., -4.0773e-01,\n",
       "            -1.1586e+00,  2.3193e-02],\n",
       "           [-5.5507e-01, -2.1476e-01, -9.3651e-01,  ..., -2.4458e-01,\n",
       "            -9.7024e-01, -8.0885e-02],\n",
       "           [-7.2097e-01, -1.0449e+00, -7.6774e-01,  ...,  3.4063e-01,\n",
       "            -1.8476e+00, -1.8287e-01],\n",
       "           [-1.0357e+00, -1.2462e-01, -7.4668e-02,  ..., -3.4392e-01,\n",
       "            -1.9867e-01, -5.5344e-01]],\n",
       "  \n",
       "          [[ 3.5156e-01, -3.1693e-01,  2.1010e-01,  ..., -6.3486e-01,\n",
       "            -9.1849e-01, -1.8448e-01],\n",
       "           [-9.3740e-01,  5.4630e-01, -2.6013e-01,  ..., -7.2075e-01,\n",
       "             4.3108e-01,  6.6421e-01],\n",
       "           [-1.0217e+00, -4.9035e-01, -8.3638e-01,  ...,  3.6076e-01,\n",
       "             2.1683e-01,  3.8262e-02],\n",
       "           [-6.1046e-01,  2.3009e+00,  3.4963e-01,  ..., -1.0596e+00,\n",
       "            -1.5455e-01,  4.2241e-03]],\n",
       "  \n",
       "          ...,\n",
       "  \n",
       "          [[ 1.2184e-01,  1.9213e+00,  3.1811e-01,  ...,  1.0927e+00,\n",
       "             9.2267e-02,  1.1951e+00],\n",
       "           [ 9.5095e-03,  2.0364e+00,  1.6794e-01,  ...,  1.0101e+00,\n",
       "            -3.2551e-01,  1.1839e+00],\n",
       "           [-8.6011e-02, -5.6999e-01,  2.8029e-01,  ..., -2.6384e-01,\n",
       "             3.6789e-01, -6.6716e-01],\n",
       "           [-2.4294e-01,  1.3493e+00,  4.5979e-01,  ...,  8.0577e-01,\n",
       "             2.1404e-02,  1.0164e+00]],\n",
       "  \n",
       "          [[ 9.1187e-02,  1.9422e+00,  3.3204e-01,  ...,  1.0682e+00,\n",
       "             1.6290e-01,  1.1665e+00],\n",
       "           [ 8.2176e-02,  2.0506e+00,  1.8119e-01,  ...,  1.0477e+00,\n",
       "            -3.2141e-01,  1.2081e+00],\n",
       "           [ 8.1133e-01, -1.9328e-01, -1.4746e+00,  ...,  1.0326e+00,\n",
       "            -7.0245e-04, -4.6763e-01],\n",
       "           [-1.5553e-01,  1.3472e+00,  4.7778e-01,  ...,  7.7437e-01,\n",
       "             3.9460e-02,  1.0217e+00]],\n",
       "  \n",
       "          [[ 8.7221e-02,  1.8923e+00,  3.6360e-01,  ...,  1.0002e+00,\n",
       "             1.4657e-01,  1.2015e+00],\n",
       "           [ 9.4971e-02,  2.0485e+00,  1.5558e-01,  ...,  1.0116e+00,\n",
       "            -3.8389e-01,  1.2871e+00],\n",
       "           [ 1.1474e+00, -8.3162e-02, -1.8488e+00,  ...,  4.6567e-01,\n",
       "            -4.0133e-01, -8.1809e-02],\n",
       "           [-1.4163e-01,  1.3555e+00,  4.9634e-01,  ...,  8.0382e-01,\n",
       "             5.7062e-02,  1.0236e+00]]]),\n",
       "  tensor([[[ 0.4891, -1.0684, -0.5760,  ...,  0.0342, -0.2222, -0.4251],\n",
       "           [-0.5904,  0.3032, -1.8051,  ..., -0.0563, -0.5366,  0.0165],\n",
       "           [-0.3174,  0.0976, -0.1607,  ..., -0.0978, -1.1456,  0.4578],\n",
       "           [ 0.0546, -0.7414,  0.3484,  ..., -0.5072, -1.4009, -0.5950]],\n",
       "  \n",
       "          [[ 0.3423, -0.6587, -0.1795,  ..., -0.3145, -1.3050, -0.5986],\n",
       "           [-0.4668, -0.5538, -1.5403,  ..., -0.3624, -0.6297,  0.2145],\n",
       "           [-1.7040, -1.4491, -0.7732,  ...,  0.0163, -2.8547, -0.0948],\n",
       "           [-1.1185, -0.5863, -0.1826,  ..., -0.1645, -0.7307, -0.5373]],\n",
       "  \n",
       "          [[ 0.1311, -0.2447,  0.6366,  ..., -0.3382, -0.7858, -1.1766],\n",
       "           [-0.9791,  0.0946, -0.3990,  ..., -0.8913,  0.3964,  0.8379],\n",
       "           [-1.1450, -0.8175, -0.8750,  ...,  0.0667,  0.0235,  0.3416],\n",
       "           [-1.0124,  2.7422, -0.1070,  ..., -1.0171, -0.6346,  0.5166]],\n",
       "  \n",
       "          ...,\n",
       "  \n",
       "          [[ 0.3114,  2.3520,  0.4325,  ...,  1.7109,  0.3940,  0.6165],\n",
       "           [ 0.2799,  2.5044,  0.2873,  ...,  1.4024,  0.0712,  0.7201],\n",
       "           [ 0.2023, -0.0411,  0.5054,  ..., -0.2913, -0.2974, -1.1604],\n",
       "           [ 0.0193,  1.6630,  0.5755,  ...,  1.3549,  0.5416,  0.3502]],\n",
       "  \n",
       "          [[ 0.2730,  2.3459,  0.4302,  ...,  1.7480,  0.4568,  0.6072],\n",
       "           [ 0.3834,  2.5534,  0.2560,  ...,  1.3864,  0.0370,  0.7284],\n",
       "           [ 1.0902,  0.0256, -1.6784,  ...,  1.5757, -0.1976, -0.2819],\n",
       "           [ 0.0955,  1.6682,  0.5755,  ...,  1.2958,  0.5563,  0.3512]],\n",
       "  \n",
       "          [[ 0.2258,  2.2872,  0.4393,  ...,  1.6814,  0.4444,  0.6923],\n",
       "           [ 0.3839,  2.5479,  0.2529,  ...,  1.3860, -0.0506,  0.8458],\n",
       "           [ 1.2763,  0.2934, -1.9248,  ...,  0.8977, -0.9984,  0.2219],\n",
       "           [ 0.1110,  1.6826,  0.5809,  ...,  1.3034,  0.5729,  0.3807]]]),\n",
       "  tensor([[[ 4.6435e-01, -1.2576e+00, -4.3910e-01,  ..., -2.4719e-01,\n",
       "            -2.6373e-02, -4.3836e-02],\n",
       "           [-1.0885e-01, -1.8947e-01, -1.4172e+00,  ..., -4.7683e-02,\n",
       "             3.3067e-03,  5.7636e-01],\n",
       "           [-2.0595e-02, -2.2194e-01,  1.9662e-01,  ..., -3.3665e-01,\n",
       "            -6.8799e-01,  1.0365e+00],\n",
       "           [-3.7671e-01, -1.0480e+00,  6.3749e-01,  ..., -6.1517e-01,\n",
       "            -1.1453e+00, -9.8549e-01]],\n",
       "  \n",
       "          [[-5.3424e-02, -6.0501e-01, -1.3961e-01,  ..., -4.2382e-01,\n",
       "            -6.8631e-01, -4.8965e-01],\n",
       "           [-3.5039e-01, -7.7299e-01, -1.0562e+00,  ..., -3.2112e-01,\n",
       "            -5.4491e-01,  2.5045e-01],\n",
       "           [-1.3785e+00, -1.4926e+00, -3.7679e-01,  ...,  4.9120e-01,\n",
       "            -1.6007e+00,  2.2677e-03],\n",
       "           [-1.6636e+00, -1.0096e+00,  4.2959e-01,  ...,  2.1554e-01,\n",
       "            -3.2533e-01, -7.6255e-02]],\n",
       "  \n",
       "          [[ 5.4132e-02, -8.5074e-02,  6.9383e-01,  ..., -7.5489e-01,\n",
       "            -2.9834e-01, -8.4026e-01],\n",
       "           [-6.3848e-01,  2.0704e-01,  3.4900e-01,  ..., -6.0821e-01,\n",
       "             1.5987e-01,  8.0242e-01],\n",
       "           [-1.1368e+00, -8.7421e-01, -4.6380e-01,  ...,  2.9517e-01,\n",
       "             2.8633e-01,  4.0976e-01],\n",
       "           [-1.1024e+00,  2.3668e+00,  3.3661e-01,  ..., -6.7309e-01,\n",
       "            -2.9464e-01,  6.1421e-01]],\n",
       "  \n",
       "          ...,\n",
       "  \n",
       "          [[ 2.4589e-01,  2.3503e+00,  4.3693e-01,  ...,  1.6940e+00,\n",
       "             5.6502e-01,  5.5221e-01],\n",
       "           [ 1.5806e-01,  2.2840e+00,  4.5547e-01,  ...,  1.2133e+00,\n",
       "             2.3181e-02,  5.5884e-01],\n",
       "           [ 1.4978e-01, -1.5362e-01,  7.0450e-01,  ...,  5.5989e-01,\n",
       "             1.6483e-02, -5.9554e-01],\n",
       "           [ 1.8455e-01,  1.7040e+00,  5.4293e-01,  ...,  1.2645e+00,\n",
       "             4.4127e-01,  8.2021e-02]],\n",
       "  \n",
       "          [[ 1.8408e-01,  2.3502e+00,  4.5946e-01,  ...,  1.7031e+00,\n",
       "             6.9695e-01,  5.4945e-01],\n",
       "           [ 1.8103e-01,  2.3298e+00,  3.7758e-01,  ...,  1.2330e+00,\n",
       "            -6.7450e-02,  5.8427e-01],\n",
       "           [ 1.0869e+00, -1.4451e-01, -9.8012e-01,  ...,  7.8328e-01,\n",
       "            -1.9542e-01, -2.1069e-01],\n",
       "           [ 2.5167e-01,  1.6941e+00,  5.3260e-01,  ...,  1.2188e+00,\n",
       "             4.3983e-01,  6.8494e-02]],\n",
       "  \n",
       "          [[ 1.2781e-01,  2.2918e+00,  4.7419e-01,  ...,  1.6600e+00,\n",
       "             7.7162e-01,  5.9114e-01],\n",
       "           [ 1.9978e-01,  2.3010e+00,  4.1992e-01,  ...,  1.2415e+00,\n",
       "            -1.0862e-01,  6.6122e-01],\n",
       "           [ 1.2070e+00,  2.6979e-01, -9.1327e-01,  ...,  5.8247e-01,\n",
       "            -5.6479e-01,  1.8289e-01],\n",
       "           [ 2.5748e-01,  1.7165e+00,  5.2773e-01,  ...,  1.2273e+00,\n",
       "             4.4369e-01,  8.8011e-02]]]),\n",
       "  tensor([[[ 0.5779, -0.9952, -0.6959,  ..., -0.6982, -0.5648, -0.3253],\n",
       "           [ 0.1037,  0.1903, -1.2681,  ..., -0.4277, -0.7489, -0.1233],\n",
       "           [ 0.3657, -0.2779, -0.0109,  ..., -0.8765, -1.2139,  0.5004],\n",
       "           [-0.2544, -0.9172,  0.9352,  ..., -0.2520, -1.5931, -1.8134]],\n",
       "  \n",
       "          [[ 0.2367, -0.3358, -0.3561,  ..., -0.3711, -1.3461, -0.7344],\n",
       "           [-0.6926, -0.4485, -1.3123,  ..., -0.3291, -0.4383,  0.3372],\n",
       "           [-1.3305, -1.5408, -0.1180,  ...,  0.2496, -1.7366,  0.4022],\n",
       "           [-1.2216, -0.6290,  0.5937,  ...,  0.7617, -0.3646, -0.2635]],\n",
       "  \n",
       "          [[ 0.3497,  0.2886,  0.6785,  ..., -0.4009, -1.0448, -0.9222],\n",
       "           [-0.4386,  0.1804,  0.0952,  ..., -0.3684, -0.2502,  0.6831],\n",
       "           [-1.0861, -0.6158, -0.6277,  ..., -0.2003, -0.1589,  0.7684],\n",
       "           [-0.6141,  2.5248,  0.1593,  ...,  0.2290, -0.5286,  0.3396]],\n",
       "  \n",
       "          ...,\n",
       "  \n",
       "          [[ 0.4845,  2.1546,  1.0601,  ...,  0.9915, -0.0923, -0.0141],\n",
       "           [ 0.4393,  2.0413,  0.9592,  ...,  0.3884, -0.7170, -0.1484],\n",
       "           [ 0.3479,  0.2566,  0.6991,  ...,  0.1678,  0.1083, -0.5315],\n",
       "           [ 0.2865,  1.6792,  1.0864,  ...,  0.7779, -0.3913, -0.2469]],\n",
       "  \n",
       "          [[ 0.4519,  2.1271,  1.0494,  ...,  1.0276,  0.0674,  0.0425],\n",
       "           [ 0.4916,  2.0545,  0.8486,  ...,  0.3991, -0.7650, -0.0238],\n",
       "           [ 1.2469, -0.0873, -0.6365,  ...,  0.7299, -0.4383, -0.1387],\n",
       "           [ 0.3473,  1.6711,  1.0532,  ...,  0.7744, -0.4269, -0.3217]],\n",
       "  \n",
       "          [[ 0.4053,  2.1034,  1.0614,  ...,  1.0440,  0.1585,  0.0785],\n",
       "           [ 0.4956,  2.0800,  0.8847,  ...,  0.4206, -0.7685,  0.0444],\n",
       "           [ 0.5693,  0.1574, -0.3859,  ...,  0.2401, -0.4325,  0.2040],\n",
       "           [ 0.3381,  1.7103,  1.0584,  ...,  0.8045, -0.4474, -0.3637]]]),\n",
       "  tensor([[[ 0.3471, -0.9053, -0.5565,  ..., -0.2869, -0.1658, -0.6214],\n",
       "           [-0.2341,  0.0787, -0.7298,  ..., -0.4840, -0.3313, -0.6200],\n",
       "           [ 0.1336, -0.5326,  0.2844,  ..., -0.4019, -0.8946,  0.7399],\n",
       "           [-0.4673, -0.9203,  1.2881,  ..., -0.4204, -1.2376, -1.5256]],\n",
       "  \n",
       "          [[ 0.4898, -0.2990, -0.1543,  ...,  0.3523, -0.5338, -0.7519],\n",
       "           [-0.7793, -0.5036, -0.6325,  ..., -0.6284, -0.1512, -0.3140],\n",
       "           [-0.7185, -1.3047,  0.0686,  ...,  0.2477, -1.3556,  0.8475],\n",
       "           [-1.3795, -0.4065,  0.2870,  ...,  0.8504, -0.5698, -0.5014]],\n",
       "  \n",
       "          [[ 0.6681, -0.0094,  0.8416,  ...,  0.2189, -0.3321, -0.9309],\n",
       "           [-0.7839,  0.0968,  0.1969,  ..., -0.4703, -0.4827, -0.0453],\n",
       "           [-0.7332, -0.7063, -0.7661,  ..., -0.2129,  0.0293,  0.8072],\n",
       "           [-0.6878,  2.4054,  0.3423,  ...,  0.0076, -0.2946,  0.7460]],\n",
       "  \n",
       "          ...,\n",
       "  \n",
       "          [[ 0.4298,  1.4378,  0.9660,  ...,  0.3115,  0.0964, -0.2648],\n",
       "           [ 0.3942,  1.4808,  0.8362,  ..., -0.1431, -0.5082, -0.2834],\n",
       "           [ 0.0169, -0.1113,  0.9688,  ...,  0.0779,  0.4342, -0.5200],\n",
       "           [ 0.2078,  1.1512,  0.9352,  ...,  0.2017, -0.0556, -0.4358]],\n",
       "  \n",
       "          [[ 0.3997,  1.4212,  0.9393,  ...,  0.3813,  0.2265, -0.2361],\n",
       "           [ 0.4017,  1.5111,  0.7117,  ..., -0.1341, -0.5309, -0.1786],\n",
       "           [ 1.0788, -0.1489, -0.7159,  ...,  0.3803, -0.2570, -0.4931],\n",
       "           [ 0.2406,  1.1484,  0.8974,  ...,  0.1821, -0.0893, -0.5087]],\n",
       "  \n",
       "          [[ 0.3616,  1.4065,  0.9491,  ...,  0.4129,  0.2972, -0.2342],\n",
       "           [ 0.4055,  1.5229,  0.7540,  ..., -0.1454, -0.5397, -0.1200],\n",
       "           [ 0.1444,  0.0452, -0.1396,  ...,  0.0166, -0.0135,  0.0386],\n",
       "           [ 0.2264,  1.1768,  0.8959,  ...,  0.1945, -0.1101, -0.5403]]]),\n",
       "  tensor([[[ 0.6416, -1.2117, -0.3705,  ..., -0.7287, -0.4933, -0.3484],\n",
       "           [-0.2872, -0.2698, -0.9329,  ..., -0.4672, -0.1139, -0.8691],\n",
       "           [ 0.3676, -1.0555,  0.1477,  ..., -0.6201, -0.9735,  0.5336],\n",
       "           [-0.7829, -0.5141,  1.7159,  ..., -1.1359, -1.3390, -1.3238]],\n",
       "  \n",
       "          [[ 0.7840, -0.7493,  0.3115,  ...,  0.2511, -0.5448, -0.4826],\n",
       "           [-1.1166, -0.5397, -0.5315,  ..., -0.9754,  0.2459, -0.6690],\n",
       "           [-0.6121, -1.7686, -0.0691,  ..., -0.2243, -1.6174,  1.1065],\n",
       "           [-1.3515, -0.0152,  0.5011,  ...,  1.1854, -0.7120, -0.3817]],\n",
       "  \n",
       "          [[ 0.7438,  0.0985,  1.1528,  ...,  0.2094, -0.1463, -0.4238],\n",
       "           [-0.7570,  0.3150,  0.0785,  ..., -0.1735, -0.1794,  0.4623],\n",
       "           [-0.8036, -1.0029, -0.3730,  ..., -0.7312,  0.0721,  1.3164],\n",
       "           [-0.8203,  2.6383,  0.2791,  ...,  0.1680, -0.2185,  1.1413]],\n",
       "  \n",
       "          ...,\n",
       "  \n",
       "          [[ 0.0433,  1.3250,  0.9572,  ...,  0.4602,  0.4481, -0.4934],\n",
       "           [ 0.0194,  1.4696,  1.1189,  ..., -0.0616, -0.1540, -0.1799],\n",
       "           [-0.2871, -0.0764,  1.1934,  ...,  0.0853,  0.6488, -0.1471],\n",
       "           [-0.2521,  1.0381,  0.9430,  ...,  0.3573,  0.2767, -0.4901]],\n",
       "  \n",
       "          [[ 0.0767,  1.3152,  0.9511,  ...,  0.5643,  0.5857, -0.4351],\n",
       "           [ 0.0079,  1.5051,  1.0041,  ...,  0.0260, -0.1319, -0.0181],\n",
       "           [ 0.5480,  0.2316, -0.5453,  ...,  0.6503, -0.4447, -0.8921],\n",
       "           [-0.2434,  1.0618,  0.8869,  ...,  0.3090,  0.2436, -0.5616]],\n",
       "  \n",
       "          [[ 0.0716,  1.3140,  0.9484,  ...,  0.6095,  0.6430, -0.4313],\n",
       "           [ 0.0258,  1.5214,  1.0540,  ...,  0.0195, -0.1406,  0.0154],\n",
       "           [ 0.0193,  0.0066, -0.0629,  ...,  0.0551,  0.0613,  0.0479],\n",
       "           [-0.2768,  1.0941,  0.8634,  ...,  0.3074,  0.2353, -0.6068]]]),\n",
       "  tensor([[[ 2.9858e-01, -1.3318e+00,  2.6827e-01,  ..., -9.0249e-01,\n",
       "            -1.9137e-01,  4.6152e-02],\n",
       "           [-4.0652e-01, -6.7563e-01, -3.8108e-01,  ...,  2.3846e-03,\n",
       "            -2.3985e-01, -5.8308e-01],\n",
       "           [ 2.5957e-01, -1.0427e+00,  1.9749e-01,  ..., -2.6811e-01,\n",
       "            -1.0862e+00,  4.9156e-01],\n",
       "           [-2.5996e-01, -3.7078e-01,  1.1867e+00,  ..., -5.5916e-01,\n",
       "            -8.1091e-01, -4.8605e-01]],\n",
       "  \n",
       "          [[ 2.7290e-01, -6.2118e-01,  8.7843e-01,  ..., -3.4545e-01,\n",
       "            -3.9816e-01,  2.8384e-01],\n",
       "           [-6.4076e-01, -8.9591e-01, -1.4929e-01,  ..., -5.4197e-01,\n",
       "            -5.0210e-02, -4.3152e-01],\n",
       "           [-3.7623e-01, -1.3848e+00, -1.4903e-02,  ...,  4.4852e-01,\n",
       "            -1.1152e+00,  1.1316e+00],\n",
       "           [-5.4079e-01,  1.7872e-01,  6.2731e-01,  ...,  8.6256e-01,\n",
       "            -1.7376e-01, -2.2701e-01]],\n",
       "  \n",
       "          [[ 3.0634e-01,  8.1786e-02,  1.2810e+00,  ..., -3.5579e-01,\n",
       "            -1.7005e-01, -4.5539e-01],\n",
       "           [-9.9625e-01, -2.3466e-01,  2.3403e-03,  ...,  2.0879e-01,\n",
       "             3.4025e-02,  6.9389e-01],\n",
       "           [-6.7189e-01, -6.5350e-01, -7.8229e-02,  ..., -2.1277e-02,\n",
       "            -3.3073e-02,  8.3770e-01],\n",
       "           [-2.8559e-01,  1.5764e+00,  1.0380e-02,  ...,  3.4674e-01,\n",
       "            -3.1912e-01,  1.0554e+00]],\n",
       "  \n",
       "          ...,\n",
       "  \n",
       "          [[ 1.9362e-01,  7.5173e-01,  6.6447e-01,  ..., -6.2156e-02,\n",
       "             3.3607e-01, -2.9609e-01],\n",
       "           [ 1.0820e-01,  9.7142e-01,  8.1305e-01,  ..., -3.0295e-01,\n",
       "            -3.7204e-02, -1.7242e-01],\n",
       "           [-3.0350e-01, -5.7357e-02,  4.9812e-01,  ..., -2.0023e-01,\n",
       "             3.6743e-01,  2.7586e-01],\n",
       "           [ 8.0251e-02,  6.5413e-01,  5.2192e-01,  ..., -6.8265e-02,\n",
       "             1.7897e-01, -4.2058e-01]],\n",
       "  \n",
       "          [[ 2.2115e-01,  7.7038e-01,  6.4534e-01,  ..., -1.1732e-02,\n",
       "             4.1170e-01, -2.6224e-01],\n",
       "           [ 7.7956e-02,  9.9534e-01,  7.3602e-01,  ..., -2.6885e-01,\n",
       "            -1.9283e-02, -3.7882e-02],\n",
       "           [-4.4189e-01, -5.5426e-03, -5.8569e-01,  ...,  1.2549e-01,\n",
       "            -4.9531e-01, -1.2748e-01],\n",
       "           [ 8.8102e-02,  6.4595e-01,  5.0053e-01,  ..., -1.0209e-01,\n",
       "             1.6390e-01, -4.7052e-01]],\n",
       "  \n",
       "          [[ 2.1299e-01,  7.8988e-01,  6.4057e-01,  ...,  2.4107e-02,\n",
       "             4.4903e-01, -2.5455e-01],\n",
       "           [ 8.9172e-02,  1.0393e+00,  7.6497e-01,  ..., -2.5195e-01,\n",
       "            -3.8870e-02, -1.3801e-02],\n",
       "           [-1.2071e-01,  9.4280e-02, -1.5790e-01,  ..., -1.2183e-02,\n",
       "             1.2875e-03,  3.3080e-01],\n",
       "           [ 6.8133e-02,  6.5567e-01,  5.0193e-01,  ..., -1.0530e-01,\n",
       "             1.5909e-01, -5.0170e-01]]])))"
      ]
     },
     "execution_count": 35,
     "metadata": {},
     "output_type": "execute_result"
    }
   ],
   "source": [
    "outputs = model(input_ids.reshape(4,512), token_type_ids=None, attention_mask=attention_mask, labels=targets)\n",
    "outputs"
   ]
  },
  {
   "cell_type": "code",
   "execution_count": 36,
   "metadata": {
    "pycharm": {
     "name": "#%%\n"
    }
   },
   "outputs": [
    {
     "data": {
      "text/plain": [
       "torch.Tensor"
      ]
     },
     "execution_count": 36,
     "metadata": {},
     "output_type": "execute_result"
    }
   ],
   "source": [
    "type(outputs[0])"
   ]
  },
  {
   "cell_type": "markdown",
   "metadata": {},
   "source": [
    "### Defining the training step function"
   ]
  },
  {
   "cell_type": "code",
   "execution_count": 37,
   "metadata": {
    "pycharm": {
     "name": "#%%\n"
    }
   },
   "outputs": [],
   "source": [
    "from sklearn import metrics\n",
    "def train_epoch(model, data_loader, optimizer, device, scheduler, n_examples):\n",
    "    model = model.train()\n",
    "    losses = []\n",
    "    acc = 0\n",
    "    counter = 0\n",
    "  \n",
    "    for d in data_loader:\n",
    "        input_ids = d[\"input_ids\"].reshape(4,512).to(device)\n",
    "        attention_mask = d[\"attention_mask\"].to(device)\n",
    "        targets = d[\"targets\"].to(device)\n",
    "        \n",
    "        outputs = model(input_ids=input_ids, token_type_ids=None, attention_mask=attention_mask, labels = targets)\n",
    "        loss = outputs[0]\n",
    "        logits = outputs[1]\n",
    "\n",
    "        # preds = preds.cpu().detach().numpy()\n",
    "        _, prediction = torch.max(outputs[1], dim=1)\n",
    "        targets = targets.cpu().detach().numpy()\n",
    "        prediction = prediction.cpu().detach().numpy()\n",
    "        accuracy = metrics.accuracy_score(targets, prediction)\n",
    "\n",
    "        acc += accuracy\n",
    "        losses.append(loss.item())\n",
    "        \n",
    "        loss.backward()\n",
    "\n",
    "        nn.utils.clip_grad_norm_(model.parameters(), max_norm=1.0)\n",
    "        optimizer.step()\n",
    "        scheduler.step()\n",
    "        optimizer.zero_grad()\n",
    "        counter = counter + 1\n",
    "\n",
    "    return acc / counter, np.mean(losses)"
   ]
  },
  {
   "cell_type": "markdown",
   "metadata": {},
   "source": [
    "### Defining the evaluation function"
   ]
  },
  {
   "cell_type": "code",
   "execution_count": 38,
   "metadata": {
    "pycharm": {
     "name": "#%%\n"
    }
   },
   "outputs": [],
   "source": [
    "def eval_model(model, data_loader, device, n_examples):\n",
    "    model = model.eval()\n",
    "    losses = []\n",
    "    acc = 0\n",
    "    counter = 0\n",
    "  \n",
    "    with torch.no_grad():\n",
    "        for d in data_loader:\n",
    "            input_ids = d[\"input_ids\"].reshape(4,512).to(device)\n",
    "            attention_mask = d[\"attention_mask\"].to(device)\n",
    "            targets = d[\"targets\"].to(device)\n",
    "            \n",
    "            outputs = model(input_ids=input_ids, token_type_ids=None, attention_mask=attention_mask, labels = targets)\n",
    "            loss = outputs[0]\n",
    "            logits = outputs[1]\n",
    "\n",
    "            _, prediction = torch.max(outputs[1], dim=1)\n",
    "            targets = targets.cpu().detach().numpy()\n",
    "            prediction = prediction.cpu().detach().numpy()\n",
    "            accuracy = metrics.accuracy_score(targets, prediction)\n",
    "\n",
    "            acc += accuracy\n",
    "            losses.append(loss.item())\n",
    "            counter += 1\n",
    "\n",
    "    return acc / counter, np.mean(losses)"
   ]
  },
  {
   "cell_type": "markdown",
   "metadata": {},
   "source": [
    "### Fine-tuning the pre-trained model"
   ]
  },
  {
   "cell_type": "code",
   "execution_count": null,
   "metadata": {
    "pycharm": {
     "name": "#%%\n"
    }
   },
   "outputs": [
    {
     "name": "stdout",
     "output_type": "stream",
     "text": [
      "Epoch 1/3\n",
      "----------\n"
     ]
    }
   ],
   "source": [
    "%%time\n",
    "history = defaultdict(list)\n",
    "best_accuracy = 0\n",
    "\n",
    "for epoch in range(EPOCHS):\n",
    "    print(f'Epoch {epoch + 1}/{EPOCHS}')\n",
    "    print('-' * 10)\n",
    "\n",
    "    train_acc, train_loss = train_epoch(\n",
    "        model,\n",
    "        train_data_loader,     \n",
    "        optimizer, \n",
    "        device, \n",
    "        scheduler, \n",
    "        len(df_train)\n",
    "    )\n",
    "\n",
    "    print(f'Train loss {train_loss} Train accuracy {train_acc}')\n",
    "\n",
    "    val_acc, val_loss = eval_model(\n",
    "        model,\n",
    "        val_data_loader, \n",
    "        device, \n",
    "        len(df_val)\n",
    "    )\n",
    "\n",
    "    print(f'Val loss {val_loss} Val accuracy {val_acc}')\n",
    "    print()\n",
    "\n",
    "    history['train_acc'].append(train_acc)\n",
    "    history['train_loss'].append(train_loss)\n",
    "    history['val_acc'].append(val_acc)\n",
    "    history['val_loss'].append(val_loss)\n",
    "\n",
    "    if val_acc > best_accuracy:\n",
    "        torch.save(model.state_dict(), 'models/xlnet_model.bin')\n",
    "        best_accuracy = val_acc"
   ]
  },
  {
   "cell_type": "markdown",
   "metadata": {},
   "source": [
    "### Evaluation of the fine-tuned model"
   ]
  },
  {
   "cell_type": "code",
   "execution_count": null,
   "metadata": {
    "pycharm": {
     "name": "#%%\n"
    }
   },
   "outputs": [],
   "source": [
    "model.load_state_dict(torch.load('/content/drive/My Drive/NLP/Sentiment Analysis Series/models/xlnet_model.bin'))"
   ]
  },
  {
   "cell_type": "code",
   "execution_count": null,
   "metadata": {
    "pycharm": {
     "name": "#%%\n"
    }
   },
   "outputs": [],
   "source": [
    "model = model.to(device)"
   ]
  },
  {
   "cell_type": "code",
   "execution_count": null,
   "metadata": {
    "pycharm": {
     "name": "#%%\n"
    }
   },
   "outputs": [],
   "source": [
    "test_acc, test_loss = eval_model(\n",
    "  model,\n",
    "  test_data_loader,\n",
    "  device,\n",
    "  len(df_test)\n",
    ")\n",
    "\n",
    "print('Test Accuracy :', test_acc)\n",
    "print('Test Loss :', test_loss)"
   ]
  },
  {
   "cell_type": "code",
   "execution_count": null,
   "metadata": {
    "pycharm": {
     "name": "#%%\n"
    }
   },
   "outputs": [],
   "source": [
    "def get_predictions(model, data_loader):\n",
    "    model = model.eval()\n",
    "    \n",
    "    review_texts = []\n",
    "    predictions = []\n",
    "    prediction_probs = []\n",
    "    real_values = []\n",
    "\n",
    "    with torch.no_grad():\n",
    "        for d in data_loader:\n",
    "\n",
    "            texts = d[\"review_text\"]\n",
    "            input_ids = d[\"input_ids\"].reshape(4,512).to(device)\n",
    "            attention_mask = d[\"attention_mask\"].to(device)\n",
    "            targets = d[\"targets\"].to(device)\n",
    "            \n",
    "            outputs = model(input_ids=input_ids, token_type_ids=None, attention_mask=attention_mask, labels = targets)\n",
    "\n",
    "            loss = outputs[0]\n",
    "            logits = outputs[1]\n",
    "            \n",
    "            _, preds = torch.max(outputs[1], dim=1)\n",
    "\n",
    "            probs = F.softmax(outputs[1], dim=1)\n",
    "\n",
    "            review_texts.extend(texts)\n",
    "            predictions.extend(preds)\n",
    "            prediction_probs.extend(probs)\n",
    "            real_values.extend(targets)\n",
    "\n",
    "    predictions = torch.stack(predictions).cpu()\n",
    "    prediction_probs = torch.stack(prediction_probs).cpu()\n",
    "    real_values = torch.stack(real_values).cpu()\n",
    "    return review_texts, predictions, prediction_probs, real_values"
   ]
  },
  {
   "cell_type": "code",
   "execution_count": null,
   "metadata": {
    "pycharm": {
     "name": "#%%\n"
    }
   },
   "outputs": [],
   "source": [
    "y_review_texts, y_pred, y_pred_probs, y_test = get_predictions(\n",
    "  model,\n",
    "  test_data_loader\n",
    ")"
   ]
  },
  {
   "cell_type": "code",
   "execution_count": null,
   "metadata": {
    "pycharm": {
     "name": "#%%\n"
    }
   },
   "outputs": [],
   "source": [
    "print(classification_report(y_test, y_pred, target_names=class_names))"
   ]
  },
  {
   "cell_type": "markdown",
   "metadata": {},
   "source": [
    "### Custom prediction function on raw text"
   ]
  },
  {
   "cell_type": "code",
   "execution_count": null,
   "metadata": {
    "pycharm": {
     "name": "#%%\n"
    }
   },
   "outputs": [],
   "source": [
    "def predict_sentiment(text):\n",
    "    review_text = text\n",
    "\n",
    "    encoded_review = tokenizer.encode_plus(\n",
    "    review_text,\n",
    "    max_length=MAX_LEN,\n",
    "    add_special_tokens=True,\n",
    "    return_token_type_ids=False,\n",
    "    pad_to_max_length=False,\n",
    "    return_attention_mask=True,\n",
    "    return_tensors='pt',\n",
    "    )\n",
    "\n",
    "    input_ids = pad_sequences(encoded_review['input_ids'], maxlen=MAX_LEN, dtype=torch.Tensor ,truncating=\"post\",padding=\"post\")\n",
    "    input_ids = input_ids.astype(dtype = 'int64')\n",
    "    input_ids = torch.tensor(input_ids) \n",
    "\n",
    "    attention_mask = pad_sequences(encoded_review['attention_mask'], maxlen=MAX_LEN, dtype=torch.Tensor ,truncating=\"post\",padding=\"post\")\n",
    "    attention_mask = attention_mask.astype(dtype = 'int64')\n",
    "    attention_mask = torch.tensor(attention_mask) \n",
    "\n",
    "    input_ids = input_ids.reshape(1,512).to(device)\n",
    "    attention_mask = attention_mask.to(device)\n",
    "\n",
    "    outputs = model(input_ids=input_ids, attention_mask=attention_mask)\n",
    "\n",
    "    outputs = outputs[0][0].cpu().detach()\n",
    "\n",
    "    probs = F.softmax(outputs, dim=-1).cpu().detach().numpy().tolist()\n",
    "    _, prediction = torch.max(outputs, dim =-1)\n",
    "\n",
    "    print(\"Positive score:\", probs[1])\n",
    "    print(\"Negative score:\", probs[0])\n",
    "    print(f'Review text: {review_text}')\n",
    "    print(f'Sentiment  : {class_names[prediction]}')"
   ]
  },
  {
   "cell_type": "code",
   "execution_count": null,
   "metadata": {
    "pycharm": {
     "name": "#%%\n"
    }
   },
   "outputs": [],
   "source": [
    "text = \"Movie is the worst one I have ever seen!! The story has no meaning at all\"\n",
    "predict_sentiment(text)"
   ]
  },
  {
   "cell_type": "code",
   "execution_count": null,
   "metadata": {
    "pycharm": {
     "name": "#%%\n"
    }
   },
   "outputs": [],
   "source": [
    "text = \"This is the best movie I have ever seen!! The story is such a motivation\"\n",
    "predict_sentiment(text)"
   ]
  }
 ],
 "metadata": {
  "accelerator": "GPU",
  "colab": {
   "authorship_tag": "ABX9TyNxtXs+TX1Ira4fPz7vjXW1",
   "collapsed_sections": [],
   "include_colab_link": true,
   "name": "Sentiment Analysis Series part-1.ipynb",
   "provenance": []
  },
  "kernelspec": {
   "display_name": "Python 3",
   "language": "python",
   "name": "python3"
  },
  "language_info": {
   "codemirror_mode": {
    "name": "ipython",
    "version": 3
   },
   "file_extension": ".py",
   "mimetype": "text/x-python",
   "name": "python",
   "nbconvert_exporter": "python",
   "pygments_lexer": "ipython3",
   "version": "3.8.3"
  },
  "widgets": {
   "application/vnd.jupyter.widget-state+json": {
    "0954f506d85d4723a3b32b6606db0015": {
     "model_module": "@jupyter-widgets/controls",
     "model_name": "FloatProgressModel",
     "state": {
      "_dom_classes": [],
      "_model_module": "@jupyter-widgets/controls",
      "_model_module_version": "1.5.0",
      "_model_name": "FloatProgressModel",
      "_view_count": null,
      "_view_module": "@jupyter-widgets/controls",
      "_view_module_version": "1.5.0",
      "_view_name": "ProgressView",
      "bar_style": "success",
      "description": "Downloading: 100%",
      "description_tooltip": null,
      "layout": "IPY_MODEL_f97490f8dee84ccc8029e401abe1042e",
      "max": 798011,
      "min": 0,
      "orientation": "horizontal",
      "style": "IPY_MODEL_ed27989647d140eca7d3bf745145a3a0",
      "value": 798011
     }
    },
    "0cba445897514d4b98192e28890df304": {
     "model_module": "@jupyter-widgets/base",
     "model_name": "LayoutModel",
     "state": {
      "_model_module": "@jupyter-widgets/base",
      "_model_module_version": "1.2.0",
      "_model_name": "LayoutModel",
      "_view_count": null,
      "_view_module": "@jupyter-widgets/base",
      "_view_module_version": "1.2.0",
      "_view_name": "LayoutView",
      "align_content": null,
      "align_items": null,
      "align_self": null,
      "border": null,
      "bottom": null,
      "display": null,
      "flex": null,
      "flex_flow": null,
      "grid_area": null,
      "grid_auto_columns": null,
      "grid_auto_flow": null,
      "grid_auto_rows": null,
      "grid_column": null,
      "grid_gap": null,
      "grid_row": null,
      "grid_template_areas": null,
      "grid_template_columns": null,
      "grid_template_rows": null,
      "height": null,
      "justify_content": null,
      "justify_items": null,
      "left": null,
      "margin": null,
      "max_height": null,
      "max_width": null,
      "min_height": null,
      "min_width": null,
      "object_fit": null,
      "object_position": null,
      "order": null,
      "overflow": null,
      "overflow_x": null,
      "overflow_y": null,
      "padding": null,
      "right": null,
      "top": null,
      "visibility": null,
      "width": null
     }
    },
    "18e0ec87d07d4c0bb3930b5cef204963": {
     "model_module": "@jupyter-widgets/base",
     "model_name": "LayoutModel",
     "state": {
      "_model_module": "@jupyter-widgets/base",
      "_model_module_version": "1.2.0",
      "_model_name": "LayoutModel",
      "_view_count": null,
      "_view_module": "@jupyter-widgets/base",
      "_view_module_version": "1.2.0",
      "_view_name": "LayoutView",
      "align_content": null,
      "align_items": null,
      "align_self": null,
      "border": null,
      "bottom": null,
      "display": null,
      "flex": null,
      "flex_flow": null,
      "grid_area": null,
      "grid_auto_columns": null,
      "grid_auto_flow": null,
      "grid_auto_rows": null,
      "grid_column": null,
      "grid_gap": null,
      "grid_row": null,
      "grid_template_areas": null,
      "grid_template_columns": null,
      "grid_template_rows": null,
      "height": null,
      "justify_content": null,
      "justify_items": null,
      "left": null,
      "margin": null,
      "max_height": null,
      "max_width": null,
      "min_height": null,
      "min_width": null,
      "object_fit": null,
      "object_position": null,
      "order": null,
      "overflow": null,
      "overflow_x": null,
      "overflow_y": null,
      "padding": null,
      "right": null,
      "top": null,
      "visibility": null,
      "width": null
     }
    },
    "297ea592ec1b44558448159860cd1aa0": {
     "model_module": "@jupyter-widgets/controls",
     "model_name": "HTMLModel",
     "state": {
      "_dom_classes": [],
      "_model_module": "@jupyter-widgets/controls",
      "_model_module_version": "1.5.0",
      "_model_name": "HTMLModel",
      "_view_count": null,
      "_view_module": "@jupyter-widgets/controls",
      "_view_module_version": "1.5.0",
      "_view_name": "HTMLView",
      "description": "",
      "description_tooltip": null,
      "layout": "IPY_MODEL_73e86ec287c541d3a189620dd50c33b5",
      "placeholder": "​",
      "style": "IPY_MODEL_8d146a11180d4d918cbfc302fc7d2971",
      "value": " 798k/798k [00:37&lt;00:00, 21.2kB/s]"
     }
    },
    "3524b098b1944e5ba752f1fbfcb50aef": {
     "model_module": "@jupyter-widgets/controls",
     "model_name": "DescriptionStyleModel",
     "state": {
      "_model_module": "@jupyter-widgets/controls",
      "_model_module_version": "1.5.0",
      "_model_name": "DescriptionStyleModel",
      "_view_count": null,
      "_view_module": "@jupyter-widgets/base",
      "_view_module_version": "1.2.0",
      "_view_name": "StyleView",
      "description_width": ""
     }
    },
    "35d3d0c2b7004a6b87420e55a94ddcaf": {
     "model_module": "@jupyter-widgets/controls",
     "model_name": "HTMLModel",
     "state": {
      "_dom_classes": [],
      "_model_module": "@jupyter-widgets/controls",
      "_model_module_version": "1.5.0",
      "_model_name": "HTMLModel",
      "_view_count": null,
      "_view_module": "@jupyter-widgets/controls",
      "_view_module_version": "1.5.0",
      "_view_name": "HTMLView",
      "description": "",
      "description_tooltip": null,
      "layout": "IPY_MODEL_0cba445897514d4b98192e28890df304",
      "placeholder": "​",
      "style": "IPY_MODEL_3524b098b1944e5ba752f1fbfcb50aef",
      "value": " 760/760 [00:42&lt;00:00, 17.9B/s]"
     }
    },
    "3d9a5c47f9fb44ffa41f91cc37b8ee6e": {
     "model_module": "@jupyter-widgets/controls",
     "model_name": "HTMLModel",
     "state": {
      "_dom_classes": [],
      "_model_module": "@jupyter-widgets/controls",
      "_model_module_version": "1.5.0",
      "_model_name": "HTMLModel",
      "_view_count": null,
      "_view_module": "@jupyter-widgets/controls",
      "_view_module_version": "1.5.0",
      "_view_name": "HTMLView",
      "description": "",
      "description_tooltip": null,
      "layout": "IPY_MODEL_b9235fdb071742628781944bb3b6608d",
      "placeholder": "​",
      "style": "IPY_MODEL_f6cc72303ee14b548a2c4c1282a1784b",
      "value": " 467M/467M [00:06&lt;00:00, 72.4MB/s]"
     }
    },
    "47a41f0a294f42cbb2c9ec3916ca100e": {
     "model_module": "@jupyter-widgets/controls",
     "model_name": "FloatProgressModel",
     "state": {
      "_dom_classes": [],
      "_model_module": "@jupyter-widgets/controls",
      "_model_module_version": "1.5.0",
      "_model_name": "FloatProgressModel",
      "_view_count": null,
      "_view_module": "@jupyter-widgets/controls",
      "_view_module_version": "1.5.0",
      "_view_name": "ProgressView",
      "bar_style": "success",
      "description": "Downloading: 100%",
      "description_tooltip": null,
      "layout": "IPY_MODEL_769eba56a67d4d71b76f1240fd154a4e",
      "max": 467042463,
      "min": 0,
      "orientation": "horizontal",
      "style": "IPY_MODEL_767ef584a8ed49b4ae8ee7835208fb44",
      "value": 467042463
     }
    },
    "62d0e9673815468ba407019771a0b2ba": {
     "model_module": "@jupyter-widgets/controls",
     "model_name": "HBoxModel",
     "state": {
      "_dom_classes": [],
      "_model_module": "@jupyter-widgets/controls",
      "_model_module_version": "1.5.0",
      "_model_name": "HBoxModel",
      "_view_count": null,
      "_view_module": "@jupyter-widgets/controls",
      "_view_module_version": "1.5.0",
      "_view_name": "HBoxView",
      "box_style": "",
      "children": [
       "IPY_MODEL_47a41f0a294f42cbb2c9ec3916ca100e",
       "IPY_MODEL_3d9a5c47f9fb44ffa41f91cc37b8ee6e"
      ],
      "layout": "IPY_MODEL_6af011b92bd3462b937cea74a2094579"
     }
    },
    "6af011b92bd3462b937cea74a2094579": {
     "model_module": "@jupyter-widgets/base",
     "model_name": "LayoutModel",
     "state": {
      "_model_module": "@jupyter-widgets/base",
      "_model_module_version": "1.2.0",
      "_model_name": "LayoutModel",
      "_view_count": null,
      "_view_module": "@jupyter-widgets/base",
      "_view_module_version": "1.2.0",
      "_view_name": "LayoutView",
      "align_content": null,
      "align_items": null,
      "align_self": null,
      "border": null,
      "bottom": null,
      "display": null,
      "flex": null,
      "flex_flow": null,
      "grid_area": null,
      "grid_auto_columns": null,
      "grid_auto_flow": null,
      "grid_auto_rows": null,
      "grid_column": null,
      "grid_gap": null,
      "grid_row": null,
      "grid_template_areas": null,
      "grid_template_columns": null,
      "grid_template_rows": null,
      "height": null,
      "justify_content": null,
      "justify_items": null,
      "left": null,
      "margin": null,
      "max_height": null,
      "max_width": null,
      "min_height": null,
      "min_width": null,
      "object_fit": null,
      "object_position": null,
      "order": null,
      "overflow": null,
      "overflow_x": null,
      "overflow_y": null,
      "padding": null,
      "right": null,
      "top": null,
      "visibility": null,
      "width": null
     }
    },
    "73e86ec287c541d3a189620dd50c33b5": {
     "model_module": "@jupyter-widgets/base",
     "model_name": "LayoutModel",
     "state": {
      "_model_module": "@jupyter-widgets/base",
      "_model_module_version": "1.2.0",
      "_model_name": "LayoutModel",
      "_view_count": null,
      "_view_module": "@jupyter-widgets/base",
      "_view_module_version": "1.2.0",
      "_view_name": "LayoutView",
      "align_content": null,
      "align_items": null,
      "align_self": null,
      "border": null,
      "bottom": null,
      "display": null,
      "flex": null,
      "flex_flow": null,
      "grid_area": null,
      "grid_auto_columns": null,
      "grid_auto_flow": null,
      "grid_auto_rows": null,
      "grid_column": null,
      "grid_gap": null,
      "grid_row": null,
      "grid_template_areas": null,
      "grid_template_columns": null,
      "grid_template_rows": null,
      "height": null,
      "justify_content": null,
      "justify_items": null,
      "left": null,
      "margin": null,
      "max_height": null,
      "max_width": null,
      "min_height": null,
      "min_width": null,
      "object_fit": null,
      "object_position": null,
      "order": null,
      "overflow": null,
      "overflow_x": null,
      "overflow_y": null,
      "padding": null,
      "right": null,
      "top": null,
      "visibility": null,
      "width": null
     }
    },
    "767ef584a8ed49b4ae8ee7835208fb44": {
     "model_module": "@jupyter-widgets/controls",
     "model_name": "ProgressStyleModel",
     "state": {
      "_model_module": "@jupyter-widgets/controls",
      "_model_module_version": "1.5.0",
      "_model_name": "ProgressStyleModel",
      "_view_count": null,
      "_view_module": "@jupyter-widgets/base",
      "_view_module_version": "1.2.0",
      "_view_name": "StyleView",
      "bar_color": null,
      "description_width": "initial"
     }
    },
    "769eba56a67d4d71b76f1240fd154a4e": {
     "model_module": "@jupyter-widgets/base",
     "model_name": "LayoutModel",
     "state": {
      "_model_module": "@jupyter-widgets/base",
      "_model_module_version": "1.2.0",
      "_model_name": "LayoutModel",
      "_view_count": null,
      "_view_module": "@jupyter-widgets/base",
      "_view_module_version": "1.2.0",
      "_view_name": "LayoutView",
      "align_content": null,
      "align_items": null,
      "align_self": null,
      "border": null,
      "bottom": null,
      "display": null,
      "flex": null,
      "flex_flow": null,
      "grid_area": null,
      "grid_auto_columns": null,
      "grid_auto_flow": null,
      "grid_auto_rows": null,
      "grid_column": null,
      "grid_gap": null,
      "grid_row": null,
      "grid_template_areas": null,
      "grid_template_columns": null,
      "grid_template_rows": null,
      "height": null,
      "justify_content": null,
      "justify_items": null,
      "left": null,
      "margin": null,
      "max_height": null,
      "max_width": null,
      "min_height": null,
      "min_width": null,
      "object_fit": null,
      "object_position": null,
      "order": null,
      "overflow": null,
      "overflow_x": null,
      "overflow_y": null,
      "padding": null,
      "right": null,
      "top": null,
      "visibility": null,
      "width": null
     }
    },
    "8d146a11180d4d918cbfc302fc7d2971": {
     "model_module": "@jupyter-widgets/controls",
     "model_name": "DescriptionStyleModel",
     "state": {
      "_model_module": "@jupyter-widgets/controls",
      "_model_module_version": "1.5.0",
      "_model_name": "DescriptionStyleModel",
      "_view_count": null,
      "_view_module": "@jupyter-widgets/base",
      "_view_module_version": "1.2.0",
      "_view_name": "StyleView",
      "description_width": ""
     }
    },
    "b9235fdb071742628781944bb3b6608d": {
     "model_module": "@jupyter-widgets/base",
     "model_name": "LayoutModel",
     "state": {
      "_model_module": "@jupyter-widgets/base",
      "_model_module_version": "1.2.0",
      "_model_name": "LayoutModel",
      "_view_count": null,
      "_view_module": "@jupyter-widgets/base",
      "_view_module_version": "1.2.0",
      "_view_name": "LayoutView",
      "align_content": null,
      "align_items": null,
      "align_self": null,
      "border": null,
      "bottom": null,
      "display": null,
      "flex": null,
      "flex_flow": null,
      "grid_area": null,
      "grid_auto_columns": null,
      "grid_auto_flow": null,
      "grid_auto_rows": null,
      "grid_column": null,
      "grid_gap": null,
      "grid_row": null,
      "grid_template_areas": null,
      "grid_template_columns": null,
      "grid_template_rows": null,
      "height": null,
      "justify_content": null,
      "justify_items": null,
      "left": null,
      "margin": null,
      "max_height": null,
      "max_width": null,
      "min_height": null,
      "min_width": null,
      "object_fit": null,
      "object_position": null,
      "order": null,
      "overflow": null,
      "overflow_x": null,
      "overflow_y": null,
      "padding": null,
      "right": null,
      "top": null,
      "visibility": null,
      "width": null
     }
    },
    "bac82e5dc1974ef4ac18f743ecfb72b5": {
     "model_module": "@jupyter-widgets/controls",
     "model_name": "FloatProgressModel",
     "state": {
      "_dom_classes": [],
      "_model_module": "@jupyter-widgets/controls",
      "_model_module_version": "1.5.0",
      "_model_name": "FloatProgressModel",
      "_view_count": null,
      "_view_module": "@jupyter-widgets/controls",
      "_view_module_version": "1.5.0",
      "_view_name": "ProgressView",
      "bar_style": "success",
      "description": "Downloading: 100%",
      "description_tooltip": null,
      "layout": "IPY_MODEL_d8c49d3421e843a6a2aadd20565ea5d2",
      "max": 760,
      "min": 0,
      "orientation": "horizontal",
      "style": "IPY_MODEL_d8893bea6edb4154b051b344cae1636c",
      "value": 760
     }
    },
    "bd7d4d34bd6d46ae985741702b456aaf": {
     "model_module": "@jupyter-widgets/controls",
     "model_name": "HBoxModel",
     "state": {
      "_dom_classes": [],
      "_model_module": "@jupyter-widgets/controls",
      "_model_module_version": "1.5.0",
      "_model_name": "HBoxModel",
      "_view_count": null,
      "_view_module": "@jupyter-widgets/controls",
      "_view_module_version": "1.5.0",
      "_view_name": "HBoxView",
      "box_style": "",
      "children": [
       "IPY_MODEL_0954f506d85d4723a3b32b6606db0015",
       "IPY_MODEL_297ea592ec1b44558448159860cd1aa0"
      ],
      "layout": "IPY_MODEL_e8135d40c9c4460d9ce1eb0885c562e4"
     }
    },
    "c2b26508fa464328b2b30c851a0366fe": {
     "model_module": "@jupyter-widgets/controls",
     "model_name": "HBoxModel",
     "state": {
      "_dom_classes": [],
      "_model_module": "@jupyter-widgets/controls",
      "_model_module_version": "1.5.0",
      "_model_name": "HBoxModel",
      "_view_count": null,
      "_view_module": "@jupyter-widgets/controls",
      "_view_module_version": "1.5.0",
      "_view_name": "HBoxView",
      "box_style": "",
      "children": [
       "IPY_MODEL_bac82e5dc1974ef4ac18f743ecfb72b5",
       "IPY_MODEL_35d3d0c2b7004a6b87420e55a94ddcaf"
      ],
      "layout": "IPY_MODEL_18e0ec87d07d4c0bb3930b5cef204963"
     }
    },
    "d8893bea6edb4154b051b344cae1636c": {
     "model_module": "@jupyter-widgets/controls",
     "model_name": "ProgressStyleModel",
     "state": {
      "_model_module": "@jupyter-widgets/controls",
      "_model_module_version": "1.5.0",
      "_model_name": "ProgressStyleModel",
      "_view_count": null,
      "_view_module": "@jupyter-widgets/base",
      "_view_module_version": "1.2.0",
      "_view_name": "StyleView",
      "bar_color": null,
      "description_width": "initial"
     }
    },
    "d8c49d3421e843a6a2aadd20565ea5d2": {
     "model_module": "@jupyter-widgets/base",
     "model_name": "LayoutModel",
     "state": {
      "_model_module": "@jupyter-widgets/base",
      "_model_module_version": "1.2.0",
      "_model_name": "LayoutModel",
      "_view_count": null,
      "_view_module": "@jupyter-widgets/base",
      "_view_module_version": "1.2.0",
      "_view_name": "LayoutView",
      "align_content": null,
      "align_items": null,
      "align_self": null,
      "border": null,
      "bottom": null,
      "display": null,
      "flex": null,
      "flex_flow": null,
      "grid_area": null,
      "grid_auto_columns": null,
      "grid_auto_flow": null,
      "grid_auto_rows": null,
      "grid_column": null,
      "grid_gap": null,
      "grid_row": null,
      "grid_template_areas": null,
      "grid_template_columns": null,
      "grid_template_rows": null,
      "height": null,
      "justify_content": null,
      "justify_items": null,
      "left": null,
      "margin": null,
      "max_height": null,
      "max_width": null,
      "min_height": null,
      "min_width": null,
      "object_fit": null,
      "object_position": null,
      "order": null,
      "overflow": null,
      "overflow_x": null,
      "overflow_y": null,
      "padding": null,
      "right": null,
      "top": null,
      "visibility": null,
      "width": null
     }
    },
    "e8135d40c9c4460d9ce1eb0885c562e4": {
     "model_module": "@jupyter-widgets/base",
     "model_name": "LayoutModel",
     "state": {
      "_model_module": "@jupyter-widgets/base",
      "_model_module_version": "1.2.0",
      "_model_name": "LayoutModel",
      "_view_count": null,
      "_view_module": "@jupyter-widgets/base",
      "_view_module_version": "1.2.0",
      "_view_name": "LayoutView",
      "align_content": null,
      "align_items": null,
      "align_self": null,
      "border": null,
      "bottom": null,
      "display": null,
      "flex": null,
      "flex_flow": null,
      "grid_area": null,
      "grid_auto_columns": null,
      "grid_auto_flow": null,
      "grid_auto_rows": null,
      "grid_column": null,
      "grid_gap": null,
      "grid_row": null,
      "grid_template_areas": null,
      "grid_template_columns": null,
      "grid_template_rows": null,
      "height": null,
      "justify_content": null,
      "justify_items": null,
      "left": null,
      "margin": null,
      "max_height": null,
      "max_width": null,
      "min_height": null,
      "min_width": null,
      "object_fit": null,
      "object_position": null,
      "order": null,
      "overflow": null,
      "overflow_x": null,
      "overflow_y": null,
      "padding": null,
      "right": null,
      "top": null,
      "visibility": null,
      "width": null
     }
    },
    "ed27989647d140eca7d3bf745145a3a0": {
     "model_module": "@jupyter-widgets/controls",
     "model_name": "ProgressStyleModel",
     "state": {
      "_model_module": "@jupyter-widgets/controls",
      "_model_module_version": "1.5.0",
      "_model_name": "ProgressStyleModel",
      "_view_count": null,
      "_view_module": "@jupyter-widgets/base",
      "_view_module_version": "1.2.0",
      "_view_name": "StyleView",
      "bar_color": null,
      "description_width": "initial"
     }
    },
    "f6cc72303ee14b548a2c4c1282a1784b": {
     "model_module": "@jupyter-widgets/controls",
     "model_name": "DescriptionStyleModel",
     "state": {
      "_model_module": "@jupyter-widgets/controls",
      "_model_module_version": "1.5.0",
      "_model_name": "DescriptionStyleModel",
      "_view_count": null,
      "_view_module": "@jupyter-widgets/base",
      "_view_module_version": "1.2.0",
      "_view_name": "StyleView",
      "description_width": ""
     }
    },
    "f97490f8dee84ccc8029e401abe1042e": {
     "model_module": "@jupyter-widgets/base",
     "model_name": "LayoutModel",
     "state": {
      "_model_module": "@jupyter-widgets/base",
      "_model_module_version": "1.2.0",
      "_model_name": "LayoutModel",
      "_view_count": null,
      "_view_module": "@jupyter-widgets/base",
      "_view_module_version": "1.2.0",
      "_view_name": "LayoutView",
      "align_content": null,
      "align_items": null,
      "align_self": null,
      "border": null,
      "bottom": null,
      "display": null,
      "flex": null,
      "flex_flow": null,
      "grid_area": null,
      "grid_auto_columns": null,
      "grid_auto_flow": null,
      "grid_auto_rows": null,
      "grid_column": null,
      "grid_gap": null,
      "grid_row": null,
      "grid_template_areas": null,
      "grid_template_columns": null,
      "grid_template_rows": null,
      "height": null,
      "justify_content": null,
      "justify_items": null,
      "left": null,
      "margin": null,
      "max_height": null,
      "max_width": null,
      "min_height": null,
      "min_width": null,
      "object_fit": null,
      "object_position": null,
      "order": null,
      "overflow": null,
      "overflow_x": null,
      "overflow_y": null,
      "padding": null,
      "right": null,
      "top": null,
      "visibility": null,
      "width": null
     }
    }
   }
  }
 },
 "nbformat": 4,
 "nbformat_minor": 1
}
